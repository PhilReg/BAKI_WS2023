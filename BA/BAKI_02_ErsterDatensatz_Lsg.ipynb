{
 "cells": [
  {
   "cell_type": "markdown",
   "metadata": {
    "slideshow": {
     "slide_type": "slide"
    }
   },
   "source": [
    "# Business Analytics und Künstliche Intelligenz\n",
    "\n",
    "Prof. Dr. Jürgen Bock & Maximilian-Peter Radtke"
   ]
  },
  {
   "cell_type": "markdown",
   "metadata": {},
   "source": [
    "---"
   ]
  },
  {
   "cell_type": "markdown",
   "metadata": {},
   "source": [
    "## Ein erster Datensatz\n",
    "In dieser Einheit geht es um die ersten Analysen von Daten. Wir verwenden hier einen einfachen Datensatz über Autos. (Mehr Informationen zum Datensatz finden Sie [hier](https://intro-stat-learning.github.io/ISLP/datasets/Auto.html))."
   ]
  },
  {
   "cell_type": "markdown",
   "metadata": {},
   "source": [
    "**Wichtig:** Stellen Sie bitte sicher, dass die Datei `Auto_clean.csv` aus dem Moodle-Kursraum im gleichen Verzeichnis wie dieses Notebook auf Ihrem Rechner vorhanden ist. (Laden Sie die Datei aus Moodle und speichern Sie diese genau wie das Jupyter Notebook selbst im gleichen Verzeichnis ab.)"
   ]
  },
  {
   "cell_type": "markdown",
   "metadata": {},
   "source": [
    "### Pandas\n",
    "Zum Einlesen eines Datensatzes verwenden wir das Pandas-Modul."
   ]
  },
  {
   "cell_type": "code",
   "execution_count": null,
   "metadata": {},
   "outputs": [],
   "source": [
    "import pandas as pd"
   ]
  },
  {
   "cell_type": "markdown",
   "metadata": {},
   "source": [
    "Pandas stellt eine Funktion zur Verfügung um einen im CSV-Format vorliegenden Datensatz einzulesen."
   ]
  },
  {
   "cell_type": "code",
   "execution_count": null,
   "metadata": {},
   "outputs": [],
   "source": [
    "data = pd.read_csv('Auto_clean.csv')"
   ]
  },
  {
   "cell_type": "markdown",
   "metadata": {},
   "source": [
    "Die Daten aus der Datei wurden nun geladen und in der Variablen `data` gespeichert."
   ]
  },
  {
   "cell_type": "code",
   "execution_count": null,
   "metadata": {},
   "outputs": [],
   "source": [
    "data"
   ]
  },
  {
   "cell_type": "markdown",
   "metadata": {},
   "source": [
    "Die Ausgabe sieht jedoch anders aus als gewohnt. Dies liegt am Datentyp, denn es handelt sich weder um einen primitiven Datentyp (einzelner Wert), noch um eine Kollektion (Liste, Menge, Tupel). Durch die `type()`-Funktion können wir den Datentyp erfahren:"
   ]
  },
  {
   "cell_type": "code",
   "execution_count": null,
   "metadata": {},
   "outputs": [],
   "source": [
    "type(data)"
   ]
  },
  {
   "cell_type": "markdown",
   "metadata": {},
   "source": [
    "Es handelt sich also um den Datentyp `DataFrame` der im Modul `pandas.core.frame` definiert ist."
   ]
  },
  {
   "cell_type": "markdown",
   "metadata": {},
   "source": [
    "**Hintergrundinfo:** Bei diesem Datentyp handelt es sich um eine sogenannte *Klasse*. Neben den Attributen der Klasse (welche die eigentlichen Daten beinhalten) gibt es auch *Methoden*. Dies sind Funktionen, die im Rahmen der Klasse existieren und bestimmte Funktionalitäten für die Klassenobjekte bereitstellen."
   ]
  },
  {
   "cell_type": "markdown",
   "metadata": {},
   "source": [
    "Eine gute Möglichkeit, einen ersten Blick in einen `DataFrame` zu werfen ist über die *Methode* `head()`, die auf dem entsprechenden `DataFrame` ausgeführt werden kann:"
   ]
  },
  {
   "cell_type": "code",
   "execution_count": null,
   "metadata": {},
   "outputs": [],
   "source": [
    "data.head()"
   ]
  },
  {
   "cell_type": "markdown",
   "metadata": {},
   "source": [
    "Standardmäßig zeigt `head()` die ersten 5 Datenreihen. Sollen mehr oder weniger Datenreihen angezeigt werden, kann die Anzahl als Paramter angegeben werden:"
   ]
  },
  {
   "cell_type": "code",
   "execution_count": null,
   "metadata": {},
   "outputs": [],
   "source": [
    "data.head(10)"
   ]
  },
  {
   "cell_type": "markdown",
   "metadata": {},
   "source": [
    "Der `DataFrame` ähnelt einer Tabelle. Hier sind die einzelnen Merkmale / Variablen (Features) in Spalten, die verschiedenen Datenreihen in Zeilen dargestellt."
   ]
  },
  {
   "cell_type": "markdown",
   "metadata": {},
   "source": [
    "Die Bedeutung der Merkmale lässt sich an den Spaltenüberschriften ablesen. Wichtig ist dabei, dass diese Interpretation nur für den menschlichen Betrachter / Data Scientist bedeutsam ist. Entsprechend der DIKW Pyramide handelt es sich hier lediglich um *Daten*. Die *Information*, was diese Daten bedeuten könnten, und wie Sie zu interpretieren sind, kommt nur durch einen Menschen zustande und dessen Fähigkeit, die natürliche Sprache der Spaltenüberschriften zu verstehen."
   ]
  },
  {
   "cell_type": "markdown",
   "metadata": {},
   "source": [
    "Einzelne Bestandteile und Informationen zu einem `DataFrame` können über entsprechende *Klassenattribute* erfragt werden, z.B. die Dimensionen des Datensatzes:"
   ]
  },
  {
   "cell_type": "code",
   "execution_count": null,
   "metadata": {},
   "outputs": [],
   "source": [
    "data.shape"
   ]
  },
  {
   "cell_type": "markdown",
   "metadata": {},
   "source": [
    "Unser Datensatz besteht entsprechend aus 392 Zeilen und 9 Spalten. Ein weiteres wichtiges Klassenattribut sind die Spalten:"
   ]
  },
  {
   "cell_type": "code",
   "execution_count": null,
   "metadata": {},
   "outputs": [],
   "source": [
    "data.columns"
   ]
  },
  {
   "cell_type": "markdown",
   "metadata": {},
   "source": [
    "In diesem Fall haben die einzelnen Spalten folgende Bedeutung:\n",
    "* `mpg` - Meilen pro Gallone\n",
    "* `cylinders` - Anzahl der Zylinder\n",
    "* `displacement` - Hubraum des Motors in inches\n",
    "* `horsepower` - PS des Motors\n",
    "* `weight` - Gewicht des Fahrzeuges\n",
    "* `acceleration` - Beschleunigungszeit von 0 auf 60 mph in Sekunden\n",
    "* `year` - Modelljahr des Autos (modulo 100)\n",
    "* `origin` - Herkunft des Fahrzeuges (1=Amerika, 2=Europa, 3=Japan)\n",
    "* `name` - Name des Fahrzeuges\n",
    "\n",
    "*Wie lassen sich die einzelnen Variablen in die Kategorien nominal, ordinal und quantitativ einordnen?*"
   ]
  },
  {
   "cell_type": "markdown",
   "metadata": {},
   "source": [
    "Der Zugriff auf die Spalten eines `DataFrame` kann in Pandas komfortabel über den Spaltennamen erfolgen:"
   ]
  },
  {
   "cell_type": "code",
   "execution_count": null,
   "metadata": {},
   "outputs": [],
   "source": [
    "data[\"mpg\"]"
   ]
  },
  {
   "cell_type": "markdown",
   "metadata": {},
   "source": [
    "bzw."
   ]
  },
  {
   "cell_type": "code",
   "execution_count": null,
   "metadata": {},
   "outputs": [],
   "source": [
    "data.mpg"
   ]
  },
  {
   "cell_type": "markdown",
   "metadata": {},
   "source": [
    "Jeder Spalte ist ein Datentyp zugeordnet, welcher sich über das Klassenattribut `dtypes` anzeigen lässt:"
   ]
  },
  {
   "cell_type": "code",
   "execution_count": null,
   "metadata": {
    "scrolled": true
   },
   "outputs": [],
   "source": [
    "data.dtypes"
   ]
  },
  {
   "cell_type": "markdown",
   "metadata": {},
   "source": [
    "Um einen Überblick über die Daten zu bekommen, eignet sich die Methode `describe()`, welche diverse deskriptive Statistiken ausgibt."
   ]
  },
  {
   "cell_type": "code",
   "execution_count": null,
   "metadata": {},
   "outputs": [],
   "source": [
    "data.describe()"
   ]
  },
  {
   "cell_type": "markdown",
   "metadata": {},
   "source": [
    "Die einzelnen Werte lassen sich natürlich auch einzeln berechnen."
   ]
  },
  {
   "cell_type": "code",
   "execution_count": null,
   "metadata": {},
   "outputs": [],
   "source": [
    "data.mpg.mean()"
   ]
  },
  {
   "cell_type": "code",
   "execution_count": null,
   "metadata": {},
   "outputs": [],
   "source": [
    "data.cylinders.std()"
   ]
  },
  {
   "cell_type": "code",
   "execution_count": null,
   "metadata": {},
   "outputs": [],
   "source": [
    "data.displacement.min()"
   ]
  },
  {
   "cell_type": "code",
   "execution_count": null,
   "metadata": {},
   "outputs": [],
   "source": [
    "data.horsepower.max()"
   ]
  },
  {
   "cell_type": "markdown",
   "metadata": {},
   "source": [
    "Wir können uns auch einzelnen Bereiche des Datensatzes anschauen. Beispielsweise können wir uns alle Autos ausgeben lassen, die nach 1980 auf den Markt gekommen sind."
   ]
  },
  {
   "cell_type": "code",
   "execution_count": null,
   "metadata": {},
   "outputs": [],
   "source": [
    "data.loc[data.year > 80, :]"
   ]
  },
  {
   "cell_type": "markdown",
   "metadata": {},
   "source": [
    "Oder uns interessiert nur der Name und die Herkunft der Autos, die nach 1980 auf dem Markt gekommen sind und genau 4 Zylinder haben."
   ]
  },
  {
   "cell_type": "code",
   "execution_count": null,
   "metadata": {},
   "outputs": [],
   "source": [
    "data.loc[(data.year>80) & (data.cylinders==4), ['name', 'origin']]"
   ]
  },
  {
   "cell_type": "markdown",
   "metadata": {},
   "source": [
    "Durch dieses sogenannte **slicing** des Datensatzes können wir uns deskriptive Statistiken für Subgruppen der Farhzeuge ausgeben lassen."
   ]
  },
  {
   "cell_type": "code",
   "execution_count": null,
   "metadata": {},
   "outputs": [],
   "source": [
    "data.loc[(data.year>80) & (data.cylinders==4), :].describe()"
   ]
  },
  {
   "cell_type": "markdown",
   "metadata": {},
   "source": [
    "Oft ist es leichter mithilfe von Graphiken einen genaueren Einblick über die Daten zu bekommen. Um dies zu tun, benötigen wir jedoch eine zusätzliche Python-Bibliothek. Hierzu ist `matplotlib` ein mächtiges und häufig verwendetes Toolkit."
   ]
  },
  {
   "cell_type": "markdown",
   "metadata": {},
   "source": [
    "## matplotlib\n",
    "Matplotlib ist ein Python-Package zum Plotten von Daten. Um `matplotlib` zu verwenden, muss es, wie üblich, importiert werden. Besonders relevant ist das Modul `pyplot`, welches konventionsgemäß mit dem Alias `plt` importiert wird:"
   ]
  },
  {
   "cell_type": "code",
   "execution_count": null,
   "metadata": {},
   "outputs": [],
   "source": [
    "import matplotlib.pyplot as plt"
   ]
  },
  {
   "cell_type": "markdown",
   "metadata": {},
   "source": [
    "Einfache Visualisierungen lassen sich nun leicht erstellen und werden direkt unter der ausgeführten Zelle angezeigt.."
   ]
  },
  {
   "cell_type": "code",
   "execution_count": null,
   "metadata": {},
   "outputs": [],
   "source": [
    "plt.plot([1,2,3,4,5], [1,4,9,16,25])\n",
    "plt.show()"
   ]
  },
  {
   "cell_type": "markdown",
   "metadata": {},
   "source": [
    "Da `matplotlib` die verschiedenen Stadien der Graphik \"im Hinterkopf\" behält, können wir einzelne Elemente der Graphik anpassen, bspw. die Achsenbeschriftung oder die Linienfarbe:"
   ]
  },
  {
   "cell_type": "code",
   "execution_count": null,
   "metadata": {},
   "outputs": [],
   "source": [
    "plt.plot([1,2,3,4,5], [1,4,9,16,25], color='red')\n",
    "plt.xlabel('X')\n",
    "plt.ylabel('Y')\n",
    "plt.show()"
   ]
  },
  {
   "cell_type": "markdown",
   "metadata": {},
   "source": [
    "Es gibt sehr viele Möglichkeiten Plots den individuellen Bedürfnissen anzupassen. Nähere Informationen zu den einzelnen Methoden können durch ein Fragezeichen (`?`) angezeigt werden."
   ]
  },
  {
   "cell_type": "code",
   "execution_count": null,
   "metadata": {},
   "outputs": [],
   "source": [
    "?plt.plot"
   ]
  },
  {
   "cell_type": "markdown",
   "metadata": {},
   "source": [
    "Desweiteren gibt es [hier](https://matplotlib.org/stable/contents.html \"Matplotlib Dokumentation\") eine detaillierte Dokumentation, welche auch Beispiele beinhaltet. Im weiteren Verlauf des Kurses werden wir verschiedene dieser Funktionalitäten nutzen um Datensätze zu visualieren und besser zu verstehen."
   ]
  },
  {
   "cell_type": "markdown",
   "metadata": {},
   "source": [
    "Ein Scatterplot eignet sich besonders um das Verhältnis zwischen zwei Variablen zu untersuchen."
   ]
  },
  {
   "cell_type": "code",
   "execution_count": null,
   "metadata": {},
   "outputs": [],
   "source": [
    "plt.scatter(data.displacement, data.horsepower)\n",
    "plt.xlabel('Hubraum')\n",
    "plt.ylabel('PS')\n",
    "plt.title('Verhältnis zwischen Hubraum und PS')\n",
    "plt.show()"
   ]
  },
  {
   "cell_type": "markdown",
   "metadata": {},
   "source": [
    "Mithilfe eines Histogramms kann die Verteilung einzelner Variablen analysiert werden."
   ]
  },
  {
   "cell_type": "code",
   "execution_count": null,
   "metadata": {},
   "outputs": [],
   "source": [
    "plt.hist(data.horsepower)\n",
    "plt.xlabel('PS')\n",
    "plt.ylabel('Häufigkeit')\n",
    "plt.title('Histogramm PS')\n",
    "plt.show()"
   ]
  },
  {
   "cell_type": "markdown",
   "metadata": {},
   "source": [
    "## Fluch der Dimensionalität (Curse of Dimensionality)"
   ]
  },
  {
   "cell_type": "code",
   "execution_count": null,
   "metadata": {},
   "outputs": [],
   "source": [
    "import numpy as np\n",
    "\n",
    "# Funktion um die durchschnittliche Entfernung zwischen zufälligen Punkten in einem Hyperwürfel zu berechnen\n",
    "def avg_point_distance(side_length, num_points, num_dimensions):\n",
    "    points = np.random.rand(num_points, num_dimensions) * side_length\n",
    "    distances = []\n",
    "    for i in range(num_points):\n",
    "        for j in range(i+1, num_points):\n",
    "            distance = np.linalg.norm(points[i] - points[j])\n",
    "            distances.append(distance)\n",
    "    return np.mean(distances)\n",
    "\n",
    "# # Vektorisierte Version der Funktion um die durchschnittliche Entfernung zwischen zufälligen Punkten in einem Hyperwürfel zu berechnen\n",
    "# # Funktioniert sehr viel schneller, aber ist schwerer zu verstehen\n",
    "# def avg_point_distance_vec(side_length, num_points, num_dimensions):\n",
    "#     points = np.random.rand(num_points, num_dimensions) * side_length\n",
    "#     pairwise_distances = np.linalg.norm(points[:, np.newaxis] - points, axis=2)\n",
    "#     avg_distance = np.mean(pairwise_distances[pairwise_distances != 0])\n",
    "#     return avg_distance\n",
    "\n",
    "# Generiere eine Reihe von Dimensionen\n",
    "dimensions = np.arange(1, 21)\n",
    "\n",
    "# Definiere die Anzahl der Punkte und die Seitenlänge des Hyperwürfels\n",
    "num_points = 1000\n",
    "side_length = 1.0\n",
    "\n",
    "# Berechne die durchschnittliche Entfernung zwischen Punkten für jede Dimension\n",
    "avg_distances = [avg_point_distance(side_length, num_points, d) for d in dimensions]\n",
    "# avg_distances = [avg_point_distance_vec(side_length, num_points, d) for d in dimensions]\n",
    "\n",
    "# Plot die Dimensionen gegen die durchschnittliche Punktentfernung\n",
    "# Plot the dimensions vs. the average point distance\n",
    "plt.plot(dimensions, avg_distances, marker='o')\n",
    "plt.xlabel('Anzahl Dimensionen')\n",
    "plt.ylabel('Durchschnittliche Entfernung zwischen Punkten')\n",
    "plt.title('Durchnittliche Entfernung vs. Anzahl Dimensionen')\n",
    "# plt.yscale('log')  # Nutze logarithmische Skala für die y-Achse\n",
    "plt.show()\n"
   ]
  },
  {
   "cell_type": "markdown",
   "metadata": {},
   "source": [
    "# Übungsaufgaben"
   ]
  },
  {
   "cell_type": "markdown",
   "metadata": {},
   "source": [
    "## Aufgabe 1\n",
    "\n",
    "Welche der Variablen im vorliegenden Auto-Datensatz ist quantitativ? Welche sind qualitativ?"
   ]
  },
  {
   "cell_type": "code",
   "execution_count": null,
   "metadata": {},
   "outputs": [],
   "source": [
    "data.head()"
   ]
  },
  {
   "cell_type": "markdown",
   "metadata": {},
   "source": [
    "* Quantitativ\n",
    "    * mpg\n",
    "    * cylinders\n",
    "    * horsepower\n",
    "    * weight\n",
    "    * year\n",
    "* Qualitativ\n",
    "    * origin\n",
    "    * name"
   ]
  },
  {
   "cell_type": "markdown",
   "metadata": {},
   "source": [
    "## Aufgabe 2\n",
    "\n",
    "Analysieren sie die einzelnen Variabelen graphisch. Was fällt Ihnen auf? Unterstreichen Sie Ihre Erkenntnisse mithilfe von aussagekräftigen Graphiken."
   ]
  },
  {
   "cell_type": "code",
   "execution_count": null,
   "metadata": {},
   "outputs": [],
   "source": [
    "plt.scatter(data.mpg, data.cylinders)\n",
    "plt.xlabel('mpg')\n",
    "plt.ylabel('cylinders')\n",
    "plt.title('mpg vs cylinders')\n",
    "plt.show()"
   ]
  },
  {
   "cell_type": "code",
   "execution_count": null,
   "metadata": {},
   "outputs": [],
   "source": [
    "plt.bar(data.cylinders.value_counts().index, data.cylinders.value_counts())\n",
    "plt.xlabel('cylinders')\n",
    "plt.ylabel('Absolute Häufigkeit')\n",
    "plt.title('Absolute Häufigkeiten von cylinders')\n",
    "plt.show()"
   ]
  },
  {
   "cell_type": "code",
   "execution_count": null,
   "metadata": {},
   "outputs": [],
   "source": [
    "data.cylinders.value_counts().plot.bar()\n",
    "plt.xlabel('cylinders')\n",
    "plt.ylabel('Absolute Häufigkeit')\n",
    "plt.title('Absolute Häufigkeiten von cylinders')\n",
    "plt.show()"
   ]
  },
  {
   "cell_type": "code",
   "execution_count": null,
   "metadata": {},
   "outputs": [],
   "source": [
    "plt.hist(data.mpg)\n",
    "plt.xlabel('mpg')\n",
    "plt.ylabel('Anzahl')\n",
    "plt.title('Histogramm mpg')\n",
    "plt.show()"
   ]
  },
  {
   "cell_type": "code",
   "execution_count": null,
   "metadata": {},
   "outputs": [],
   "source": [
    "pd.plotting.scatter_matrix(data, figsize=(30,30))\n",
    "plt.show()"
   ]
  },
  {
   "cell_type": "code",
   "execution_count": null,
   "metadata": {},
   "outputs": [],
   "source": [
    "data.head()"
   ]
  },
  {
   "cell_type": "markdown",
   "metadata": {},
   "source": [
    "## Aufgabe 3\n",
    "\n",
    "Angenommen wir wollen `mpg` - Meilen pro Gallone - eines Autos vorhersagen. Welche Variablen würden Sie hierfür nutzen? Welche Zusammenhänge gibt es? Nutzen Sie hierfür auch die Ergebnisse aus Aufgabe 2."
   ]
  },
  {
   "cell_type": "code",
   "execution_count": null,
   "metadata": {},
   "outputs": [],
   "source": []
  }
 ],
 "metadata": {
  "kernelspec": {
   "display_name": "Python 3 (ipykernel)",
   "language": "python",
   "name": "python3"
  },
  "language_info": {
   "codemirror_mode": {
    "name": "ipython",
    "version": 3
   },
   "file_extension": ".py",
   "mimetype": "text/x-python",
   "name": "python",
   "nbconvert_exporter": "python",
   "pygments_lexer": "ipython3",
   "version": "3.9.7"
  },
  "vscode": {
   "interpreter": {
    "hash": "8d4e26e01b905ad5810f153cf76e8bab0e96b068c4b859f49c5190a2dd823eac"
   }
  }
 },
 "nbformat": 4,
 "nbformat_minor": 4
}
