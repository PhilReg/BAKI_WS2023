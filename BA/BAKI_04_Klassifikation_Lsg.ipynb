{
 "cells": [
  {
   "cell_type": "markdown",
   "metadata": {
    "slideshow": {
     "slide_type": "slide"
    }
   },
   "source": [
    "# Business Analytics und Künstliche Intelligenz\n",
    "\n",
    "Prof. Dr. Jürgen Bock & Maximilian-Peter Radtke"
   ]
  },
  {
   "cell_type": "markdown",
   "metadata": {},
   "source": [
    "---"
   ]
  },
  {
   "cell_type": "code",
   "execution_count": null,
   "metadata": {},
   "outputs": [],
   "source": [
    "%matplotlib inline\n",
    "\n",
    "import pandas as pd\n",
    "import matplotlib.pyplot as plt\n",
    "import statsmodels.api as sm"
   ]
  },
  {
   "cell_type": "markdown",
   "metadata": {},
   "source": [
    "## Daten zur Kreditausfallwahrscheinlichkeit"
   ]
  },
  {
   "cell_type": "code",
   "execution_count": null,
   "metadata": {},
   "outputs": [],
   "source": [
    "default = pd.read_csv('Default.csv')"
   ]
  },
  {
   "cell_type": "code",
   "execution_count": null,
   "metadata": {},
   "outputs": [],
   "source": [
    "default.head()"
   ]
  },
  {
   "cell_type": "code",
   "execution_count": null,
   "metadata": {},
   "outputs": [],
   "source": [
    "default['intercept'] = 1\n",
    "default.default = default.default.map({'Yes': 1, 'No': 0})\n",
    "default.student = default.student.map({'Yes': 1, 'No': 0})"
   ]
  },
  {
   "cell_type": "code",
   "execution_count": null,
   "metadata": {
    "scrolled": true
   },
   "outputs": [],
   "source": [
    "default.head()"
   ]
  },
  {
   "cell_type": "code",
   "execution_count": null,
   "metadata": {
    "scrolled": false
   },
   "outputs": [],
   "source": [
    "for col in default.columns:\n",
    "    plt.title(col)\n",
    "    plt.hist(default[col])\n",
    "    plt.show()"
   ]
  },
  {
   "cell_type": "markdown",
   "metadata": {},
   "source": [
    "## Logistische Regression"
   ]
  },
  {
   "cell_type": "code",
   "execution_count": null,
   "metadata": {},
   "outputs": [],
   "source": [
    "defaultMod = sm.Logit(default.default, default.loc[:,['balance', 'intercept']])\n",
    "defaultRes = defaultMod.fit()\n",
    "defaultRes.summary()"
   ]
  },
  {
   "cell_type": "code",
   "execution_count": null,
   "metadata": {},
   "outputs": [],
   "source": [
    "defaultStudMod = sm.Logit(default.default, default.loc[:,['student', 'intercept']])\n",
    "defaultStudRes = defaultStudMod.fit()\n",
    "defaultStudRes.summary()"
   ]
  },
  {
   "cell_type": "code",
   "execution_count": null,
   "metadata": {},
   "outputs": [],
   "source": [
    "defaultAllMod = sm.Logit(default.default, default.loc[:,['student', 'balance', 'income', 'intercept']])\n",
    "defaultAllRes = defaultAllMod.fit()\n",
    "defaultAllRes.summary()"
   ]
  },
  {
   "cell_type": "markdown",
   "metadata": {},
   "source": [
    "## Lineare Diskriminanzanalyse (LDA)"
   ]
  },
  {
   "cell_type": "markdown",
   "metadata": {},
   "source": [
    "Statsmodels bietet [LDA]( 'https://scikit-learn.org/stable/modules/generated/sklearn.discriminant_analysis.LinearDiscriminantAnalysis.html') leider nicht als Modell an. Daher nutzen wir hierfür das Paket [`scikit-learn`]('https://scikit-learn.org/stable/index.html'). Dieses Paket enthält eine vielzahl von Modellen und Methodiken, welche für maschinelles Lernen genutzt werden können. Das Paket ist mehr auf die Anwendung von maschinellem Lernen spezialisert und es werden daher nicht automatisch so viele statistsiche Informationen ausgegeben wie bei `statsmodels`. Die Dokumentation bietet sehr viel anschauliche Beispiele, wie einzelne Modelle genutzt werden können."
   ]
  },
  {
   "cell_type": "code",
   "execution_count": null,
   "metadata": {},
   "outputs": [],
   "source": [
    "from sklearn.discriminant_analysis import LinearDiscriminantAnalysis"
   ]
  },
  {
   "cell_type": "code",
   "execution_count": null,
   "metadata": {},
   "outputs": [],
   "source": [
    "ldaDef = LinearDiscriminantAnalysis()\n",
    "ldaDef.fit(default.drop('default', axis=1),default.default)"
   ]
  },
  {
   "cell_type": "code",
   "execution_count": null,
   "metadata": {},
   "outputs": [],
   "source": [
    "ldaDef.score(default.drop('default', axis=1),default.default)"
   ]
  },
  {
   "cell_type": "markdown",
   "metadata": {},
   "source": [
    "Das Paket bietet auch weitere Metriken, um die Güte von Modellen zu betrachten, beispielsweise die [Confusionmatrix](\"https://scikit-learn.org/stable/modules/generated/sklearn.metrics.confusion_matrix.html\") aus der Vorlesung."
   ]
  },
  {
   "cell_type": "code",
   "execution_count": null,
   "metadata": {},
   "outputs": [],
   "source": [
    "from sklearn.metrics import confusion_matrix"
   ]
  },
  {
   "cell_type": "code",
   "execution_count": null,
   "metadata": {},
   "outputs": [],
   "source": [
    "yHatLDA = ldaDef.predict(default.drop('default', axis=1))\n",
    "confMat = confusion_matrix(default.default, yHatLDA)\n",
    "confMat"
   ]
  },
  {
   "cell_type": "markdown",
   "metadata": {},
   "source": [
    "## K-Nearest-Neighbors (KNN)"
   ]
  },
  {
   "cell_type": "markdown",
   "metadata": {},
   "source": [
    "Auch [KNN]('https://scikit-learn.org/stable/modules/generated/sklearn.neighbors.KNeighborsClassifier.html') ist als Modell bei `scikit-learn` hinterlegt."
   ]
  },
  {
   "cell_type": "code",
   "execution_count": null,
   "metadata": {},
   "outputs": [],
   "source": [
    "from sklearn.neighbors import KNeighborsClassifier"
   ]
  },
  {
   "cell_type": "code",
   "execution_count": null,
   "metadata": {},
   "outputs": [],
   "source": [
    "knnClf = KNeighborsClassifier(n_neighbors=3)\n",
    "knnClf.fit(default.drop('default', axis=1), default.default)"
   ]
  },
  {
   "cell_type": "code",
   "execution_count": null,
   "metadata": {},
   "outputs": [],
   "source": [
    "yHatKNN = knnClf.predict(default.drop('default', axis=1))\n",
    "confMat = confusion_matrix(default.default, yHatKNN)\n",
    "confMat"
   ]
  },
  {
   "cell_type": "markdown",
   "metadata": {},
   "source": [
    "Was könnte der Grund dafür sein, dass LDA in diesem Fall schlechter als KNN abschneidet?"
   ]
  },
  {
   "cell_type": "code",
   "execution_count": null,
   "metadata": {},
   "outputs": [],
   "source": [
    "for i in [0,1]:\n",
    "    for col in ['balance', 'income']:\n",
    "        plt.hist(default.loc[default.default == i, col])\n",
    "        plt.title(f'Class {i} Feature {col}')\n",
    "        plt.show()"
   ]
  },
  {
   "cell_type": "markdown",
   "metadata": {},
   "source": [
    "---"
   ]
  },
  {
   "cell_type": "markdown",
   "metadata": {},
   "source": [
    "# Übungsaufgaben"
   ]
  },
  {
   "cell_type": "markdown",
   "metadata": {},
   "source": [
    "Sklearn bietet auch die Möglichkeit kleine Datensätze direkt über das Paket herunterzuladen, beispielsweise den Datensatz zur Klassifizierung von Schwertlilien, welchen wir schon in der ersten Vorlesung gesehen haben."
   ]
  },
  {
   "cell_type": "code",
   "execution_count": null,
   "metadata": {},
   "outputs": [],
   "source": [
    "from sklearn.datasets import load_iris\n",
    "data = load_iris()"
   ]
  },
  {
   "cell_type": "markdown",
   "metadata": {},
   "source": [
    "Nutzen Sie den Irisdatensatz, um die folgenden Aufgaben zu lösen."
   ]
  },
  {
   "cell_type": "markdown",
   "metadata": {},
   "source": [
    "## Aufgabe 1\n",
    "\n",
    "Teilen Sie die Daten in einen Test- und einen Trainingsdatensatz mit der [`train_test_split`](\"https://scikit-learn.org/stable/modules/generated/sklearn.model_selection.train_test_split.html\") Funktion aus sklearn auf. Nutzen Sie ein Verhältnis von 80% Traingsdaten und 20% Testdaten."
   ]
  },
  {
   "cell_type": "code",
   "execution_count": null,
   "metadata": {},
   "outputs": [],
   "source": [
    "data"
   ]
  },
  {
   "cell_type": "code",
   "execution_count": null,
   "metadata": {},
   "outputs": [],
   "source": [
    "from sklearn.model_selection import train_test_split"
   ]
  },
  {
   "cell_type": "code",
   "execution_count": null,
   "metadata": {},
   "outputs": [],
   "source": [
    "X = data['data'] \n",
    "y = data['target']"
   ]
  },
  {
   "cell_type": "code",
   "execution_count": null,
   "metadata": {},
   "outputs": [],
   "source": [
    "XTrain, XTest, yTrain, yTest = train_test_split(X, y, test_size=0.2, random_state=4)"
   ]
  },
  {
   "cell_type": "code",
   "execution_count": null,
   "metadata": {},
   "outputs": [],
   "source": [
    "XTrain.shape"
   ]
  },
  {
   "cell_type": "code",
   "execution_count": null,
   "metadata": {},
   "outputs": [],
   "source": [
    "XTest.shape"
   ]
  },
  {
   "cell_type": "markdown",
   "metadata": {},
   "source": [
    "## Aufgabe 2\n",
    "\n",
    "Trainieren Sie jeweils einen LDA- und KNN-Klassifikator auf Basis der Trainingsdaten. Bewerten Sie die Ergebnisse anhand der Confusion Matrix auf Basis der Test- bzw. Traingsdaten. Welcher Klassifikator schneidet am besten ab?"
   ]
  },
  {
   "cell_type": "code",
   "execution_count": null,
   "metadata": {},
   "outputs": [],
   "source": [
    "ldaClf = LinearDiscriminantAnalysis()\n",
    "ldaClf.fit(XTrain, yTrain)\n",
    "ldaClf.score(XTest, yTest)"
   ]
  },
  {
   "cell_type": "code",
   "execution_count": null,
   "metadata": {},
   "outputs": [],
   "source": [
    "ldaClf.score(XTrain, yTrain)"
   ]
  },
  {
   "cell_type": "code",
   "execution_count": null,
   "metadata": {},
   "outputs": [],
   "source": [
    "confMatLda = confusion_matrix(yTest, ldaClf.predict(XTest))\n",
    "confMatLda"
   ]
  },
  {
   "cell_type": "code",
   "execution_count": null,
   "metadata": {},
   "outputs": [],
   "source": [
    "knnClf = KNeighborsClassifier(n_neighbors=7)\n",
    "knnClf.fit(XTrain, yTrain)\n",
    "knnClf.score(XTest, yTest)"
   ]
  },
  {
   "cell_type": "code",
   "execution_count": null,
   "metadata": {},
   "outputs": [],
   "source": [
    "confMatKnn = confusion_matrix(yTest, knnClf.predict(XTest))\n",
    "confMatKnn"
   ]
  },
  {
   "cell_type": "markdown",
   "metadata": {},
   "source": [
    "## Aufgabe 3\n",
    "\n",
    "Betrachten Sie nun nochmals die  Modelle, um die Kreditausfallwahrscheinlichkeit vorherzusagen (logistische Regression / LDA / KNN). Trainieren Sie diese erneut, aber mit der Hilfe eines Train Test Splits. Berechenen Sie zu diesen neuen Modellen jeweils die Metriken Recall, Precision und F1 Score. Nutzen Sie dazu die Funktionen von Sklearn. Welches Modell ist Ihrer Meinung nach das Beste?"
   ]
  },
  {
   "cell_type": "code",
   "execution_count": null,
   "metadata": {},
   "outputs": [],
   "source": [
    "from sklearn.metrics import recall_score, precision_score, f1_score"
   ]
  },
  {
   "cell_type": "code",
   "execution_count": null,
   "metadata": {},
   "outputs": [],
   "source": [
    "XTrain_default, XTest_default, yTrain_default, yTest_default = train_test_split(default.drop('default', axis=1), default.default, test_size=0.2, random_state=4)"
   ]
  },
  {
   "cell_type": "code",
   "execution_count": null,
   "metadata": {},
   "outputs": [],
   "source": [
    "defaultAllMod = sm.Logit(yTrain_default, XTrain_default.loc[:,['student', 'balance', 'income', 'intercept']])\n",
    "defaultAllRes = defaultAllMod.fit()\n",
    "print(f'Recall: {recall_score(yTest_default, defaultAllRes.predict(XTest_default).round())}')\n",
    "print(f'Precision: {precision_score(yTest_default, defaultAllRes.predict(XTest_default).round())}')\n",
    "print(f'F1: {f1_score(yTest_default, defaultAllRes.predict(XTest_default).round())}')"
   ]
  },
  {
   "cell_type": "code",
   "execution_count": null,
   "metadata": {},
   "outputs": [],
   "source": [
    "ldaClf = LinearDiscriminantAnalysis()\n",
    "ldaClf.fit(XTrain_default, yTrain_default)\n",
    "print(f'Recall: {recall_score(yTest_default, ldaClf.predict(XTest_default))}')\n",
    "print(f'Precision: {precision_score(yTest_default, ldaClf.predict(XTest_default))}')\n",
    "print(f'F1: {f1_score(yTest_default, ldaClf.predict(XTest_default))}')"
   ]
  },
  {
   "cell_type": "code",
   "execution_count": null,
   "metadata": {},
   "outputs": [],
   "source": [
    "knnClf = KNeighborsClassifier(n_neighbors=3)\n",
    "knnClf.fit(XTrain_default, yTrain_default)\n",
    "print(f'Recall: {recall_score(yTest_default, knnClf.predict(XTest_default))}')\n",
    "print(f'Precision: {precision_score(yTest_default, knnClf.predict(XTest_default))}')\n",
    "print(f'F1: {f1_score(yTest_default, knnClf.predict(XTest_default))}')"
   ]
  }
 ],
 "metadata": {
  "kernelspec": {
   "display_name": "Python 3 (ipykernel)",
   "language": "python",
   "name": "python3"
  },
  "language_info": {
   "codemirror_mode": {
    "name": "ipython",
    "version": 3
   },
   "file_extension": ".py",
   "mimetype": "text/x-python",
   "name": "python",
   "nbconvert_exporter": "python",
   "pygments_lexer": "ipython3",
   "version": "3.9.7"
  },
  "vscode": {
   "interpreter": {
    "hash": "8d4e26e01b905ad5810f153cf76e8bab0e96b068c4b859f49c5190a2dd823eac"
   }
  }
 },
 "nbformat": 4,
 "nbformat_minor": 4
}
