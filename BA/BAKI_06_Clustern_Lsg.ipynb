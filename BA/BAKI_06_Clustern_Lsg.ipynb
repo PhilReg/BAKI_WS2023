{
 "cells": [
  {
   "cell_type": "markdown",
   "metadata": {
    "slideshow": {
     "slide_type": "slide"
    }
   },
   "source": [
    "# Business Analytics und Künstliche Intelligenz\n",
    "\n",
    "Prof. Dr. Jürgen Bock & Maximilian-Peter Radtke"
   ]
  },
  {
   "cell_type": "markdown",
   "metadata": {},
   "source": [
    "---"
   ]
  },
  {
   "cell_type": "code",
   "execution_count": null,
   "metadata": {},
   "outputs": [],
   "source": [
    "%matplotlib inline\n",
    "\n",
    "import numpy as np\n",
    "import pandas as pd\n",
    "import matplotlib.pyplot as plt"
   ]
  },
  {
   "cell_type": "markdown",
   "metadata": {},
   "source": [
    "Wir werden für die Demonstration der Clustering Verfahren den Iris-datensatz nutzen. Hier wissen wir zwar, dass es drei verschiedene Klassen gibt, aber diese wollen wir nun versuchen ohne die Klassenlabels zu identifizieren."
   ]
  },
  {
   "cell_type": "code",
   "execution_count": null,
   "metadata": {},
   "outputs": [],
   "source": [
    "from sklearn.datasets import load_iris"
   ]
  },
  {
   "cell_type": "code",
   "execution_count": null,
   "metadata": {},
   "outputs": [],
   "source": [
    "data = load_iris(as_frame=True)\n",
    "df = data['data']"
   ]
  },
  {
   "cell_type": "code",
   "execution_count": null,
   "metadata": {},
   "outputs": [],
   "source": [
    "df.head()"
   ]
  },
  {
   "cell_type": "code",
   "execution_count": null,
   "metadata": {},
   "outputs": [],
   "source": [
    "plt.figure(figsize=(10, 10))\n",
    "plt.scatter(df.loc[data['target']==0, 'petal length (cm)'], df.loc[data['target']==0, 'petal width (cm)'], color='blue')\n",
    "plt.scatter(df.loc[data['target']==1, 'petal length (cm)'], df.loc[data['target']==1, 'petal width (cm)'], color='red')\n",
    "plt.scatter(df.loc[data['target']==2, 'petal length (cm)'], df.loc[data['target']==2, 'petal width (cm)'], color='green')\n",
    "plt.legend(['Setosa', 'Versicolor', 'Virginca'], fontsize=18)\n",
    "plt.xlabel('Blütenblatt Länge (cm)', fontsize=18)\n",
    "plt.ylabel('Blütenblatt Weite (cm)', fontsize=18)\n",
    "plt.show()"
   ]
  },
  {
   "cell_type": "markdown",
   "metadata": {},
   "source": [
    "Auf Basis der Blütenblatt Länge und Weite lassen sich die verschiedenen Schwertlilienarten also recht gut identifizieren. Diese 3 Cluster wollen wir nun automatisch generieren.\n",
    "\n",
    "Entsprechend kreieren wir eine Variable für unsere Trainingsdaten."
   ]
  },
  {
   "cell_type": "code",
   "execution_count": null,
   "metadata": {},
   "outputs": [],
   "source": [
    "X = df[['petal length (cm)', 'petal width (cm)']]"
   ]
  },
  {
   "cell_type": "markdown",
   "metadata": {},
   "source": [
    "## K-Means Clustering"
   ]
  },
  {
   "cell_type": "markdown",
   "metadata": {},
   "source": [
    "Für das Clustern mittels K-Means nutzen wir von Sklearn die [`KMeans`](https://scikit-learn.org/stable/modules/generated/sklearn.cluster.KMeans.html 'K-Means Dokumentation') Funktion."
   ]
  },
  {
   "cell_type": "code",
   "execution_count": null,
   "metadata": {},
   "outputs": [],
   "source": [
    "from sklearn.cluster import KMeans"
   ]
  },
  {
   "cell_type": "code",
   "execution_count": null,
   "metadata": {},
   "outputs": [],
   "source": [
    "# K-Means mit einer zufälligen Anfangsinitialisierung\n",
    "kmeans1 = KMeans(n_clusters=3, algorithm='full', random_state=23)\n",
    "kmeans1.fit(X)"
   ]
  },
  {
   "cell_type": "code",
   "execution_count": null,
   "metadata": {},
   "outputs": [],
   "source": [
    "# Ausgabe der erzeugten Cluster\n",
    "kmeans1.labels_"
   ]
  },
  {
   "cell_type": "code",
   "execution_count": null,
   "metadata": {},
   "outputs": [],
   "source": [
    "# K-Means mit einer zweiten zufälligen Anfangsinitialisierung\n",
    "kmeans2 = KMeans(n_clusters=3, algorithm='full', random_state=55)\n",
    "kmeans2.fit(X)"
   ]
  },
  {
   "cell_type": "code",
   "execution_count": null,
   "metadata": {},
   "outputs": [],
   "source": [
    "# Vergleich der K-Means Cluster mit den tatsächlichen Klassen\n",
    "\n",
    "# Initialisierung der Subplots\n",
    "fig, (ax0, ax1, ax2) = plt.subplots(1, 3, figsize=(22.5,7.5))\n",
    "\n",
    "# Erstellen Scatterplot für wahre Labels\n",
    "ax0.scatter(df.loc[data['target']==0, 'petal length (cm)'], df.loc[data['target']==0, 'petal width (cm)'], color='blue')\n",
    "ax0.scatter(df.loc[data['target']==1, 'petal length (cm)'], df.loc[data['target']==1, 'petal width (cm)'], color='red')\n",
    "ax0.scatter(df.loc[data['target']==2, 'petal length (cm)'], df.loc[data['target']==2, 'petal width (cm)'], color='green')\n",
    "ax0.legend(['Setosa', 'Versicolor', 'Virginca'], fontsize=18)\n",
    "ax0.set_xlabel('Blütenblatt Länge (cm)', fontsize=18)\n",
    "ax0.set_ylabel('Blütenblatt Weite (cm)', fontsize=18)\n",
    "ax0.set_title('Wahre Klassenzuordnung', fontsize=18)\n",
    "\n",
    "# Erstellen Scatterplot für ersten random state\n",
    "ax1.scatter(df.loc[kmeans1.labels_==0, 'petal length (cm)'], df.loc[kmeans1.labels_==0, 'petal width (cm)'], color='blue')\n",
    "ax1.scatter(df.loc[kmeans1.labels_==1, 'petal length (cm)'], df.loc[kmeans1.labels_==1, 'petal width (cm)'], color='red')\n",
    "ax1.scatter(df.loc[kmeans1.labels_==2, 'petal length (cm)'], df.loc[kmeans1.labels_==2, 'petal width (cm)'], color='green')\n",
    "ax1.legend(['1', '2', '3'], fontsize=18)\n",
    "ax1.set_xlabel('Blütenblatt Länge (cm)', fontsize=18)\n",
    "ax1.set_ylabel('Blütenblatt Weite (cm)', fontsize=18)\n",
    "ax1.set_title('K-Means - Random State = 23', fontsize=18)\n",
    "\n",
    "# Erstellen Scatterplot für zweiten random state\n",
    "ax2.scatter(df.loc[kmeans2.labels_==0, 'petal length (cm)'], df.loc[kmeans2.labels_==0, 'petal width (cm)'], color='blue')\n",
    "ax2.scatter(df.loc[kmeans2.labels_==1, 'petal length (cm)'], df.loc[kmeans2.labels_==1, 'petal width (cm)'], color='red')\n",
    "ax2.scatter(df.loc[kmeans2.labels_==2, 'petal length (cm)'], df.loc[kmeans2.labels_==2, 'petal width (cm)'], color='green')\n",
    "ax2.legend(['1', '2', '3'], fontsize=18)\n",
    "ax2.set_xlabel('Blütenblatt Länge (cm)', fontsize=18)\n",
    "ax2.set_ylabel('Blütenblatt Weite (cm)', fontsize=18)\n",
    "ax2.set_title('K-Means - Random State = 54', fontsize=18)\n",
    "\n",
    "plt.show()"
   ]
  },
  {
   "cell_type": "markdown",
   "metadata": {},
   "source": [
    "## Hierarchisches Clustern"
   ]
  },
  {
   "cell_type": "markdown",
   "metadata": {},
   "source": [
    "Für agglomeratives (bottom up) hierarchisches Clustern hat Sklearn auch eine Funktion. Diese heißt [`AgglomerativeClustering`](https://scikit-learn.org/stable/modules/generated/sklearn.cluster.AgglomerativeClustering.html 'Dokumentation agglomeratives Clustern')."
   ]
  },
  {
   "cell_type": "code",
   "execution_count": null,
   "metadata": {},
   "outputs": [],
   "source": [
    "from sklearn.cluster import AgglomerativeClustering"
   ]
  },
  {
   "cell_type": "markdown",
   "metadata": {},
   "source": [
    "Zunächst nutzen wir die Funktion um zu versuchen 3 Cluster zu identifizieren und übergeben daher den Parameter `n_clusters=3`. Außerdem versuchen wir das Problem einmal mit Single Linkage und einmal mit Complete Linkage zu lösen."
   ]
  },
  {
   "cell_type": "code",
   "execution_count": null,
   "metadata": {},
   "outputs": [],
   "source": [
    "# Hierarchisches Clustern Single Linkage\n",
    "AggCluSing = AgglomerativeClustering(n_clusters=3, linkage='single')\n",
    "AggCluSing.fit(X)"
   ]
  },
  {
   "cell_type": "code",
   "execution_count": null,
   "metadata": {},
   "outputs": [],
   "source": [
    "# Ausgabe der Labels\n",
    "AggCluSing.labels_"
   ]
  },
  {
   "cell_type": "code",
   "execution_count": null,
   "metadata": {},
   "outputs": [],
   "source": [
    "# Hierarchisches Clustern Complete Linkage\n",
    "AggCluComp = AgglomerativeClustering(n_clusters=3, linkage='complete')\n",
    "AggCluComp.fit(X)"
   ]
  },
  {
   "cell_type": "code",
   "execution_count": null,
   "metadata": {},
   "outputs": [],
   "source": [
    "# Vergleich der hierarchisches Clustern mit den tatsächlichen Klassen\n",
    "\n",
    "# Initialisierung der Subplots\n",
    "fig, (ax0, ax1, ax2) = plt.subplots(1, 3, figsize=(22.5,7.5))\n",
    "\n",
    "# Erstellen Scatterplot für wahre Labels\n",
    "ax0.scatter(df.loc[data['target']==0, 'petal length (cm)'], df.loc[data['target']==0, 'petal width (cm)'], color='blue')\n",
    "ax0.scatter(df.loc[data['target']==1, 'petal length (cm)'], df.loc[data['target']==1, 'petal width (cm)'], color='red')\n",
    "ax0.scatter(df.loc[data['target']==2, 'petal length (cm)'], df.loc[data['target']==2, 'petal width (cm)'], color='green')\n",
    "ax0.legend(['Setosa', 'Versicolor', 'Virginca'], fontsize=18)\n",
    "ax0.set_xlabel('Blütenblatt Länge (cm)', fontsize=18)\n",
    "ax0.set_ylabel('Blütenblatt Weite (cm)', fontsize=18)\n",
    "ax0.set_title('Wahre Klassenzuordnung', fontsize=18)\n",
    "\n",
    "# Erstellen Scatterplot zu Single Linkage\n",
    "ax1.scatter(df.loc[AggCluSing.labels_==0, 'petal length (cm)'], df.loc[AggCluSing.labels_==0, 'petal width (cm)'], color='blue')\n",
    "ax1.scatter(df.loc[AggCluSing.labels_==1, 'petal length (cm)'], df.loc[AggCluSing.labels_==1, 'petal width (cm)'], color='red')\n",
    "ax1.scatter(df.loc[AggCluSing.labels_==2, 'petal length (cm)'], df.loc[AggCluSing.labels_==2, 'petal width (cm)'], color='green')\n",
    "ax1.legend(['1', '2', '3'], fontsize=18)\n",
    "ax1.set_xlabel('Blütenblatt Länge (cm)', fontsize=18)\n",
    "ax1.set_ylabel('Blütenblatt Weite (cm)', fontsize=18)\n",
    "ax1.set_title('Single Linkage', fontsize=18)\n",
    "\n",
    "# Erstellen Scatterplot zu Complete Linkage\n",
    "ax2.scatter(df.loc[AggCluComp.labels_==0, 'petal length (cm)'], df.loc[AggCluComp.labels_==0, 'petal width (cm)'], color='blue')\n",
    "ax2.scatter(df.loc[AggCluComp.labels_==1, 'petal length (cm)'], df.loc[AggCluComp.labels_==1, 'petal width (cm)'], color='red')\n",
    "ax2.scatter(df.loc[AggCluComp.labels_==2, 'petal length (cm)'], df.loc[AggCluComp.labels_==2, 'petal width (cm)'], color='green')\n",
    "ax2.legend(['1', '2', '3'], fontsize=18)\n",
    "ax2.set_xlabel('Blütenblatt Länge (cm)', fontsize=18)\n",
    "ax2.set_ylabel('Blütenblatt Weite (cm)', fontsize=18)\n",
    "ax2.set_title('Complete Linkage', fontsize=18)\n",
    "\n",
    "plt.show()"
   ]
  },
  {
   "cell_type": "markdown",
   "metadata": {},
   "source": [
    "Ein Vorteil von hierarchischem Clustern, ist es das Dendrogramm ausgeben zu lassen. Hierfür nutzen wir die [`dendrogramm`](https://docs.scipy.org/doc/scipy/reference/reference/generated/scipy.cluster.hierarchy.dendrogram.html#scipy.cluster.hierarchy.dendrogram 'Dendrogramm Dokumentation') Funktion aus `scipy`."
   ]
  },
  {
   "cell_type": "code",
   "execution_count": null,
   "metadata": {},
   "outputs": [],
   "source": [
    "from scipy.cluster.hierarchy import dendrogram"
   ]
  },
  {
   "cell_type": "markdown",
   "metadata": {},
   "source": [
    "Um das Dendrogramm zu erzeugen müssen zusätzlich einige Schritte vorgenommen werden, welche in der selbstdefinierten Funktion `plot_dendrogram` zusammengefasst werden. Diese Funktion ist ein Beispiel von scikit-learn und kann [hier](https://scikit-learn.org/stable/auto_examples/cluster/plot_agglomerative_dendrogram.html#sphx-glr-auto-examples-cluster-plot-agglomerative-dendrogram-py) betrachtet werden.\n",
    "\n",
    "**Die Funktion muss nicht nachvollzogen und verstanden werden.**"
   ]
  },
  {
   "cell_type": "code",
   "execution_count": null,
   "metadata": {},
   "outputs": [],
   "source": [
    "def plot_dendrogram(model, **kwargs):\n",
    "    # Erstelle Linkage Matirx und plotte das Dendrogramm\n",
    "    # Create linkage matrix and then plot the dendrogram\n",
    "    \n",
    "    # Berechne die Anzahl der Sammples unter jedem Knoten\n",
    "    counts = np.zeros(model.children_.shape[0])\n",
    "    n_samples = len(model.labels_)\n",
    "    for i, merge in enumerate(model.children_):\n",
    "        current_count = 0\n",
    "        for child_idx in merge:\n",
    "            if child_idx < n_samples:\n",
    "                current_count += 1  # leaf node\n",
    "            else:\n",
    "                current_count += counts[child_idx - n_samples]\n",
    "        counts[i] = current_count\n",
    "\n",
    "    linkage_matrix = np.column_stack(\n",
    "        [model.children_, model.distances_, counts]\n",
    "    ).astype(float)\n",
    "\n",
    "    # Plotte das entsprechende Dendrogramm\n",
    "    dendrogram(linkage_matrix, **kwargs)"
   ]
  },
  {
   "cell_type": "markdown",
   "metadata": {},
   "source": [
    "Als nächstes erstellen wir ein Modell. Dass wirklich alle Partitionen berechnet werden und das komplette hierarchische Modell erstellt wird übergeben wir die Parameter `distance_threshold` und `n_clusters`."
   ]
  },
  {
   "cell_type": "code",
   "execution_count": null,
   "metadata": {},
   "outputs": [],
   "source": [
    "# Erstelle Modell mit kompletter Hierarchie\n",
    "model = AgglomerativeClustering(distance_threshold=0, n_clusters=None)\n",
    "model.fit(X)"
   ]
  },
  {
   "cell_type": "markdown",
   "metadata": {},
   "source": [
    "Nun können wir das komplette Dendrogramm plotten."
   ]
  },
  {
   "cell_type": "code",
   "execution_count": null,
   "metadata": {},
   "outputs": [],
   "source": [
    "plt.figure(figsize=(10,20))\n",
    "plot_dendrogram(model)\n",
    "plt.xlabel('Anzahl an Beobachtungen pro Knoten (bzw. Index des Punktes wenn es keine Klammern gibt)', fontsize=20)\n",
    "plt.show()"
   ]
  },
  {
   "cell_type": "markdown",
   "metadata": {},
   "source": [
    "Oder auch eine abgeschnittenen Form, welche etwas übersichtlicher ist."
   ]
  },
  {
   "cell_type": "code",
   "execution_count": null,
   "metadata": {},
   "outputs": [],
   "source": [
    "plt.figure(figsize=(7.5,7.5))\n",
    "plot_dendrogram(model, truncate_mode=\"level\", p=3)\n",
    "plt.xlabel('Anzahl an Beobachtungen pro Knoten', fontsize=20)\n",
    "plt.show()"
   ]
  },
  {
   "cell_type": "markdown",
   "metadata": {},
   "source": [
    "# Übungsaufgaben"
   ]
  },
  {
   "cell_type": "markdown",
   "metadata": {},
   "source": [
    "Wir wollen uns die Verhaftungen pro Bundesstaat in den USA etwas genauer anschauen. Laden Sie hierfür die Datei `USarrests.csv` von Moodle herunter und laden Sie sie in Python.\n",
    "\n",
    "Wir möchten hierarchisches Clustern auf den Staaten ausführen. Das heißt die verschiedenen Staaten in einzelne Cluster einordnen."
   ]
  },
  {
   "cell_type": "code",
   "execution_count": null,
   "metadata": {},
   "outputs": [],
   "source": [
    "usarrests = pd.read_csv('USarrests.csv')"
   ]
  },
  {
   "cell_type": "code",
   "execution_count": null,
   "metadata": {},
   "outputs": [],
   "source": [
    "usarrests.head()"
   ]
  },
  {
   "cell_type": "code",
   "execution_count": null,
   "metadata": {},
   "outputs": [],
   "source": [
    "# Umbennen der Staatspalte\n",
    "usarrests.rename(columns={'Unnamed: 0':'State'}, inplace=True)"
   ]
  },
  {
   "cell_type": "markdown",
   "metadata": {},
   "source": [
    "## Aufgabe 1"
   ]
  },
  {
   "cell_type": "markdown",
   "metadata": {},
   "source": [
    "Nutzen Sie Bottom Up hierarchisches Clustern mit complete linkage und euklidischem Abstand um die Staaten zu clustern und erstellen Sie drei verschiedene Cluster. Welcher Staat gehört zu welchem Cluster?"
   ]
  },
  {
   "cell_type": "code",
   "execution_count": null,
   "metadata": {},
   "outputs": [],
   "source": [
    "# Wähle alle Spalten außer die Staatsspalte\n",
    "Xarrests = usarrests.drop('State', axis=1)"
   ]
  },
  {
   "cell_type": "code",
   "execution_count": null,
   "metadata": {},
   "outputs": [],
   "source": [
    "# Erzeuge 3 Cluster mittels hierarchischem Clustern und complete linkage\n",
    "AggCluArrComp = AgglomerativeClustering(n_clusters=3, linkage='complete')\n",
    "AggCluArrComp.fit(Xarrests)"
   ]
  },
  {
   "cell_type": "code",
   "execution_count": null,
   "metadata": {},
   "outputs": [],
   "source": [
    "# Gebe Staaten pro Cluster aus\n",
    "usarrests['LabelCompleteLinkage'] = AggCluArrComp.labels_"
   ]
  },
  {
   "cell_type": "code",
   "execution_count": null,
   "metadata": {},
   "outputs": [],
   "source": [
    "for i in range(3):\n",
    "    print('Cluster', str(i), ':', usarrests.loc[usarrests.LabelCompleteLinkage == i, 'State'].values)\n",
    "    print('\\n')"
   ]
  },
  {
   "cell_type": "markdown",
   "metadata": {},
   "source": [
    "## Aufgabe 2"
   ]
  },
  {
   "cell_type": "markdown",
   "metadata": {},
   "source": [
    "Nutzen Sie Bottom Up hierarchisches Clustern mit single linkage und euklidischem Abstand um die Staaten zu clustern und erstellen Sie drei verschiedene Cluster. Welcher Staat gehört zu welchem Cluster?"
   ]
  },
  {
   "cell_type": "code",
   "execution_count": null,
   "metadata": {},
   "outputs": [],
   "source": [
    "# Erzeuge 3 Cluster mittels hierarchischem Clustern und single linkage\n",
    "AggCluArrSing = AgglomerativeClustering(n_clusters=3, linkage='single')\n",
    "AggCluArrSing.fit(Xarrests)\n",
    "# Gebe Staaten pro Cluster aus\n",
    "usarrests['LabelSingleLinkage'] = AggCluArrSing.labels_"
   ]
  },
  {
   "cell_type": "code",
   "execution_count": null,
   "metadata": {},
   "outputs": [],
   "source": [
    "for i in range(3):\n",
    "    print('Cluster', str(i), ':', usarrests.loc[usarrests.LabelSingleLinkage == i, 'State'].values)\n",
    "    print('\\n')"
   ]
  },
  {
   "cell_type": "markdown",
   "metadata": {},
   "source": [
    "## Aufgabe 3"
   ]
  },
  {
   "cell_type": "markdown",
   "metadata": {},
   "source": [
    "Wiederholen Sie Aufgaben 1 und 2, aber skalieren Sie Daten vorher. Wie unterscheiden sich die Ergebnisse? Ist es sinnvoll die Daten vorher zu skalieren?\n",
    "\n",
    "**Tip:** Nutzen Sie den [`MinMaxScaler`](https://scikit-learn.org/stable/modules/generated/sklearn.preprocessing.MinMaxScaler.html 'MinMaxScaler Dokumentation') von Sklearn um die Daten zu skalieren."
   ]
  },
  {
   "cell_type": "code",
   "execution_count": null,
   "metadata": {},
   "outputs": [],
   "source": [
    "from sklearn.preprocessing import MinMaxScaler"
   ]
  },
  {
   "cell_type": "code",
   "execution_count": null,
   "metadata": {},
   "outputs": [],
   "source": [
    "# Initalisiere Skalierungsobjekt\n",
    "scaler = MinMaxScaler()\n",
    "# Fitte Skalierungsobjekt\n",
    "scaler.fit(Xarrests)\n",
    "# Skaliere Daten\n",
    "XarrestsScaled = scaler.transform(Xarrests)"
   ]
  },
  {
   "cell_type": "code",
   "execution_count": null,
   "metadata": {},
   "outputs": [],
   "source": [
    "# Wiederhole hierarchisches Cluster mit complete und single linkage\n",
    "\n",
    "# Erzeuge 3 Cluster mittels hierarchischem Clustern und complete linkage\n",
    "AggCluArrCompScale = AgglomerativeClustering(n_clusters=3, linkage='complete')\n",
    "AggCluArrCompScale.fit(XarrestsScaled)\n",
    "# Gebe Staaten pro Cluster aus\n",
    "usarrests['LabelCompleteLinkageScale'] = AggCluArrCompScale.labels_\n",
    "\n",
    "# Gebe Cluster für complete linkage mit skalierten Daten aus\n",
    "print('Complete Linkage mit skalierten Daten:')\n",
    "print('\\n')\n",
    "for i in range(3):\n",
    "    print('Cluster', str(i), ':', usarrests.loc[usarrests.LabelCompleteLinkageScale == i, 'State'].values)\n",
    "    print('\\n')\n",
    "\n",
    "# Erzeuge 3 Cluster mittels hierarchischem Clustern und single linkage\n",
    "AggCluArrSingScale = AgglomerativeClustering(n_clusters=3, linkage='single')\n",
    "AggCluArrSingScale.fit(XarrestsScaled)\n",
    "# Gebe Staaten pro Cluster aus\n",
    "usarrests['LabelSingleLinkageScale'] = AggCluArrSingScale.labels_\n",
    "\n",
    "# Gebe Cluster für single linkage mit skalierten Daten aus\n",
    "print('Single Linkage mit skalierten Daten:')\n",
    "print('\\n')\n",
    "for i in range(3):\n",
    "    print('Cluster', str(i), ':', usarrests.loc[usarrests.LabelSingleLinkageScale == i, 'State'].values)\n",
    "    print('\\n')"
   ]
  }
 ],
 "metadata": {
  "kernelspec": {
   "display_name": "Python 3 (ipykernel)",
   "language": "python",
   "name": "python3"
  },
  "language_info": {
   "codemirror_mode": {
    "name": "ipython",
    "version": 3
   },
   "file_extension": ".py",
   "mimetype": "text/x-python",
   "name": "python",
   "nbconvert_exporter": "python",
   "pygments_lexer": "ipython3",
   "version": "3.9.7"
  },
  "vscode": {
   "interpreter": {
    "hash": "3dc50e175bdcbea8a6268d2a01f91a56f3474fd104144995cb29f75edd2d3efd"
   }
  }
 },
 "nbformat": 4,
 "nbformat_minor": 4
}
