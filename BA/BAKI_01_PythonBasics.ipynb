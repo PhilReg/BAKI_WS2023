{
 "cells": [
  {
   "cell_type": "markdown",
   "metadata": {
    "slideshow": {
     "slide_type": "slide"
    }
   },
   "source": [
    "# Business Analytics und Künstliche Intelligenz\n",
    "\n",
    "Prof. Dr. Jürgen Bock & Maximilian-Peter Radtke"
   ]
  },
  {
   "cell_type": "markdown",
   "metadata": {},
   "source": [
    "---"
   ]
  },
  {
   "cell_type": "markdown",
   "metadata": {},
   "source": [
    "## Python Basics\n",
    "Lernziele:\n",
    "* Wissen was ein Jupyter Notebook ist\n",
    "* Öffnen, Lesen, Durcharbeiten eines Jupyter Notebooks\n",
    "* Kenntnisse über elementare Python-Sprachkonzepte\n",
    "  * Arithmetische Operatoren\n",
    "  * (primitive und komplexe) Datentypen\n",
    "  * Variablen\n",
    "  * Funktionen\n",
    "  * Module und Packages"
   ]
  },
  {
   "cell_type": "markdown",
   "metadata": {},
   "source": [
    "---"
   ]
  },
  {
   "cell_type": "markdown",
   "metadata": {
    "slideshow": {
     "slide_type": "slide"
    }
   },
   "source": [
    "## Willkommen\n",
    "\n",
    "Herzlich Willkommen in Jupyter Notebook, einer interaktiven Python-Umgebung.\n",
    "\n",
    "Python ist eine Programmiersprache, die sich in den letzten Jahren gerade im Bereich Machine Learning und Data Analytics quasi als *lingua franca* etabilert hat. Als Ergänzung bietet Jupyter Notebook eine Browser-basierte interaktive Umgebung, die gerade bei Data Scientists sehr beliebt geworden ist, da sie sich für die Datenexploration in einer Python-Umgebung, das sukzessive Entwickeln von Python-Code in Kombination mit eingebauten Dokumentationsmöglichkeiten anbietet. Betrachten Sie die Arbeit mit Python und Jupyter Notebook als einen Teil der Lerninhalte, denn durch den großen Umfang an Python Bibliotheken bieten sie den Startpunkt für unzähliche Anwendungen im Bereich Machine Learning und Data Science.\n",
    "\n",
    "Wenn Sie direkt loslegen möchten, empfehlen wir die Installation von Python via [Anaconda](https://www.anaconda.com/products/individual#Downloads \"Download Anaconda\"). Anaconda beinhaltet Jupyter Notebooks und die meisten anderen Pakete, welche wir während des Kurses benötigen. Für die Installation gibt es im Internet mehrere Anleitungen, z.B. https://www.youtube.com/watch?v=g6ln1dAt-RI."
   ]
  },
  {
   "cell_type": "markdown",
   "metadata": {},
   "source": [
    "## Jupyter Notebook\n",
    "\n",
    "Ein Jupyter Notebook, wie das das Sie gerade betrachten, besteht aus Zellen. Es gibt im Wesenlichen Code-Zellen und Markdown-Zellen. Markdown-Zellen enthalten formatierten Text zur Strukturierung, Dokumentation, Kommentierung, etc. Code-Zellen enthalten ausführbaren Code. In einem Python-Notebook ist das Python-Code, der Zelle für Zelle an den Python Interpreter, den sog. Kernel, geschickt und damit ausgeführt werden kann. Das Ergebnis der Ausführung sehen Sie ebenfalls im Jupyter Notebook."
   ]
  },
  {
   "cell_type": "markdown",
   "metadata": {},
   "source": [
    "### Arbeiten mit Jupyter Notebooks\n",
    "\n",
    "Eine kurze *User Interface Tour* ist über das *Help* Menü zugänglich, welche einen ersten Überblick über Jupyter Notebook gibt.\n",
    "\n",
    "Wenn Sie eine Zelle auswählen und *Enter* betätigen, befinden Sie sich im **Editier-Modus** &rarr; Die Zelle färbt sich grün\n",
    "- `Esc` beendet den Editier-Modus und wechselt in den Command-Modus\n",
    "- `Strg-Enter` wechselt in den Command-Modus und führt die Zelle aus\n",
    "- `Shift-Enter` wechselt in den Command-Modus, führt die Zelle aus und wählt die nächste Zelle aus\n",
    "- `Alt-Enter` führt die Zelle aus und fügt eine neue, leere Zelle darunter ein (im Editier-Modus)\n",
    "\n",
    "Mit *Esc* oder einem der Ausführungskommandos wird der **Command-Modus** ausgewählt &rarr; Die Zelle färbt sich blau\n",
    "- `M` macht die Zelle zu einer Markdown Zelle\n",
    "- `Y` macht die Zelle zu einer Code Zelle\n",
    "- `A` fügt eine neue Zelle über (**A**bove) der ausgewählten Zelle ein\n",
    "- `B` fügt eine neue Zelle unter (**B**elow) der ausgewählten Zelle ein\n",
    "- `X` schneidet ein Zelle aus (wird auch zum Entfernen von Zellen genutzt)\n",
    "- `V` fügt die ausgeschnittene Zelle wieder ein\n",
    "- `Strg-Enter`, `Shift-Enter` und `Alt-Enter` funktionieren auch im Command-Modus\n",
    "- Über das *Cell* Menü lassen sich auch alle Zellen oberhalb oder unterhalb der derzeit ausgewählten Zelle ausführen\n",
    "\n",
    "Daneben gibt es unzählige weitere Shortcuts, die im obigen Menü unter *Help &rarr; Keyboard Shortcuts* aufgelistet sind. Daneben sind die wichtigsten Befehle auch direkt aus obigem Menü oder der Navigationsleiste zugänglich."
   ]
  },
  {
   "cell_type": "markdown",
   "metadata": {},
   "source": [
    "### Ausführung von Zellen\n",
    "\n",
    "Vor den (Code-)Zellen befindet sich eine Kennzeichnung, die anzeigt ob eine Zelle bereits ausgeführt wurde, und in welcher Reihenfolge die Zellen ausgeführt wurden:\n",
    "- `In []:` &rarr; Die Zelle wurde noch nicht ausgeführt\n",
    "- `In [*]:` &rarr; Die Zelle wird gerade ausgeführt\n",
    "- `In [2]:` &rarr; Die Zelle wurde als zweites ausgeführt"
   ]
  },
  {
   "cell_type": "markdown",
   "metadata": {},
   "source": [
    "### Speichern von Jupyter Notebooks\n",
    "\n",
    "Jupyter Notebooks werden in Dateien gespeichert. Die Dateien besitzen die Dateiendung `.ipynb` und enthalten je ein Notebook im JSON-Format. Öffnet man eine `.ipynb` Datei in einem Texteditor (z.B. [Notepad++](https://notepad-plus-plus.org/downloads/v8.4.6/ \"Download Notepad++\")) sieht man die JSON-Serialisierung. \n",
    "\n",
    "```json\n",
    "{\n",
    " \"cells\": [\n",
    "  {\n",
    "   \"cell_type\": \"markdown\",\n",
    "   \"metadata\": {},\n",
    "   \"source\": [\n",
    "    \"# My first notebook\"\n",
    "   ]\n",
    "  },\n",
    "  {\n",
    "   \"cell_type\": \"code\",\n",
    "   \"execution_count\": 1,\n",
    "   \"metadata\": {},\n",
    "   \"outputs\": [\n",
    "    {\n",
    "     \"name\": \"stdout\",\n",
    "     \"output_type\": \"stream\",\n",
    "     \"text\": [\n",
    "      \"Hello World!\\n\"\n",
    "     ]\n",
    "    }\n",
    "   ],\n",
    "   \"source\": [\n",
    "    \"print('Hello World!')\"\n",
    "   ]\n",
    "  }\n",
    " ],\n",
    " \"metadata\": {\n",
    "  \"kernelspec\": {\n",
    "   \"display_name\": \"Python 3\",\n",
    "   \"language\": \"python\",\n",
    "   \"name\": \"python3\"\n",
    "  },\n",
    "  \"language_info\": {\n",
    "   \"codemirror_mode\": {\n",
    "    \"name\": \"ipython\",\n",
    "    \"version\": 3\n",
    "   },\n",
    "   \"file_extension\": \".py\",\n",
    "   \"mimetype\": \"text/x-python\",\n",
    "   \"name\": \"python\",\n",
    "   \"nbconvert_exporter\": \"python\",\n",
    "   \"pygments_lexer\": \"ipython3\",\n",
    "   \"version\": \"3.7.0\"\n",
    "  }\n",
    " },\n",
    " \"nbformat\": 4,\n",
    " \"nbformat_minor\": 2\n",
    "}\n",
    "```"
   ]
  },
  {
   "cell_type": "markdown",
   "metadata": {},
   "source": [
    "### Speichern und Checkpoints\n",
    "\n",
    "Notebooks werden automatisch alle 120 Sekunden gespeichert um Datenverlust zu vermeiden. Beim Klick auf *File* &rarr; *Save and Checkpoint* wird die .ipynb-Datei explizit gespeichert. Dabei wird ein Checkpoint erstellt.\n",
    "Dieser Checkpoint findet sich üblicherweise in einem versteckten Verzeichnis namens .ipynb_checkpoints/. Der Checkpoint dient, zu einem vorherigen, sicheren Stand zurückzukehren. Mit *File &rarr; Revert to Checkpoint* kann man zun letzten Checkpoint zurückkehren."
   ]
  },
  {
   "cell_type": "markdown",
   "metadata": {},
   "source": [
    "### Tipps & weiterführende Materalien\n",
    "- Machen Sie großzügigen Gebrauch von den Dokumentationsmöglichkeiten über Markdown-Zellen.\n",
    "  - Titel und Vorwort, die Inhalt und Zweck des Notebooks beschreien\n",
    "  - Zwischenüberschriften und Dokumentationen um den Workflow zu erläutern. Die Dokumentation sollte dabei den Python-Code sinnvoll ergänzen und erklären warum bestimmte Dinge so gemacht wurden wie sie gemacht wurden. Dies hilft der Dokumentation gegenüber anderen aber auch für sich selbst\n",
    "- Der Python-Interpreter kennt nur die Zellen, die bereits ausgeführt wurden. Dies müssen nicht notwendigerweise die Zellen sein, die oberhalb der aktuellen Zelle liegen. Werden Zellen in einer abweichenden Reihenfolge ausgeführt, oder kurzzeitig verändert und dann ausgeführt, kann dies zu unvorhergesehenen Zuständen im Interpreter und damit zu unerwarteten Ergebnissen führen. Beachten Sie daher die Zahlen in den eckigen Klammern vor den Zellen, welche die Reihenfolge der Ausführung darstellen. (`In [1]:`, `In [2]:`, ...)\n",
    "- Jupyter selbst stellt eine gute Übersicht zu Notebooks dar. Die Tutorials hierzu finden Sie [hier](https://jupyter-tutorial.readthedocs.io/de/latest/index.html \"Jupyter Tutorial\").\n",
    "- Eine Übersicht zu verschiedenen Markdown-Befehlen finden Sie [hier](https://www.markdownguide.org/basic-syntax/ \"Markdown Basics\")"
   ]
  },
  {
   "cell_type": "markdown",
   "metadata": {},
   "source": [
    "## Python Grundlagen\n",
    "\n",
    "Dies ist kein Python-Kurs. Dennoch ist eine Programmierumgebung zur praktischen Arbeit im Bereich Data Science unerlässlich. Im folgenden werden einige elementare Python-Grundlagen vorgestellt, die zur Arbeit im weiteren Verlauf des Kurses notwendig sind."
   ]
  },
  {
   "cell_type": "markdown",
   "metadata": {},
   "source": [
    "### Interaktives Rechnen\n",
    "\n",
    "In der interaktiven Umgebung des Jupyter Notebooks kann Python wie ein einfacher Taschenrechner verwendet werden."
   ]
  },
  {
   "cell_type": "markdown",
   "metadata": {},
   "source": [
    "Addition (`+`):"
   ]
  },
  {
   "cell_type": "code",
   "execution_count": 2,
   "metadata": {},
   "outputs": [
    {
     "data": {
      "text/plain": [
       "5"
      ]
     },
     "execution_count": 2,
     "metadata": {},
     "output_type": "execute_result"
    }
   ],
   "source": [
    "2 + 3"
   ]
  },
  {
   "cell_type": "code",
   "execution_count": 3,
   "metadata": {},
   "outputs": [
    {
     "data": {
      "text/plain": [
       "50"
      ]
     },
     "execution_count": 3,
     "metadata": {},
     "output_type": "execute_result"
    }
   ],
   "source": [
    "32+18"
   ]
  },
  {
   "cell_type": "markdown",
   "metadata": {},
   "source": [
    "Subtraktion (`-`):"
   ]
  },
  {
   "cell_type": "code",
   "execution_count": 4,
   "metadata": {},
   "outputs": [
    {
     "data": {
      "text/plain": [
       "2"
      ]
     },
     "execution_count": 4,
     "metadata": {},
     "output_type": "execute_result"
    }
   ],
   "source": [
    "10 - 8"
   ]
  },
  {
   "cell_type": "code",
   "execution_count": 5,
   "metadata": {},
   "outputs": [
    {
     "data": {
      "text/plain": [
       "-8.5"
      ]
     },
     "execution_count": 5,
     "metadata": {},
     "output_type": "execute_result"
    }
   ],
   "source": [
    "3.5-12"
   ]
  },
  {
   "cell_type": "markdown",
   "metadata": {},
   "source": [
    "Multiplikation (`*`):"
   ]
  },
  {
   "cell_type": "code",
   "execution_count": 6,
   "metadata": {},
   "outputs": [
    {
     "data": {
      "text/plain": [
       "20"
      ]
     },
     "execution_count": 6,
     "metadata": {},
     "output_type": "execute_result"
    }
   ],
   "source": [
    "4 * 5"
   ]
  },
  {
   "cell_type": "code",
   "execution_count": 7,
   "metadata": {},
   "outputs": [
    {
     "data": {
      "text/plain": [
       "7.5"
      ]
     },
     "execution_count": 7,
     "metadata": {},
     "output_type": "execute_result"
    }
   ],
   "source": [
    "3 * 2.5"
   ]
  },
  {
   "cell_type": "markdown",
   "metadata": {},
   "source": [
    "Division (`/`):"
   ]
  },
  {
   "cell_type": "code",
   "execution_count": 8,
   "metadata": {},
   "outputs": [
    {
     "data": {
      "text/plain": [
       "5.0"
      ]
     },
     "execution_count": 8,
     "metadata": {},
     "output_type": "execute_result"
    }
   ],
   "source": [
    "10/2"
   ]
  },
  {
   "cell_type": "code",
   "execution_count": 9,
   "metadata": {},
   "outputs": [
    {
     "data": {
      "text/plain": [
       "3.3333333333333335"
      ]
     },
     "execution_count": 9,
     "metadata": {},
     "output_type": "execute_result"
    }
   ],
   "source": [
    "10/3"
   ]
  },
  {
   "cell_type": "markdown",
   "metadata": {},
   "source": [
    "Division mit Abrunden (`//`):"
   ]
  },
  {
   "cell_type": "code",
   "execution_count": 10,
   "metadata": {},
   "outputs": [
    {
     "data": {
      "text/plain": [
       "3"
      ]
     },
     "execution_count": 10,
     "metadata": {},
     "output_type": "execute_result"
    }
   ],
   "source": [
    "10//3"
   ]
  },
  {
   "cell_type": "markdown",
   "metadata": {},
   "source": [
    "Modulo (Divisionsrest) (`%`):"
   ]
  },
  {
   "cell_type": "code",
   "execution_count": 11,
   "metadata": {},
   "outputs": [
    {
     "data": {
      "text/plain": [
       "1"
      ]
     },
     "execution_count": 11,
     "metadata": {},
     "output_type": "execute_result"
    }
   ],
   "source": [
    "10%3"
   ]
  },
  {
   "cell_type": "code",
   "execution_count": 12,
   "metadata": {},
   "outputs": [
    {
     "data": {
      "text/plain": [
       "4"
      ]
     },
     "execution_count": 12,
     "metadata": {},
     "output_type": "execute_result"
    }
   ],
   "source": [
    "10%6"
   ]
  },
  {
   "cell_type": "markdown",
   "metadata": {},
   "source": [
    "Potenzierung (`**`):"
   ]
  },
  {
   "cell_type": "code",
   "execution_count": 13,
   "metadata": {},
   "outputs": [
    {
     "data": {
      "text/plain": [
       "9"
      ]
     },
     "execution_count": 13,
     "metadata": {},
     "output_type": "execute_result"
    }
   ],
   "source": [
    "3**2"
   ]
  },
  {
   "cell_type": "code",
   "execution_count": 14,
   "metadata": {},
   "outputs": [
    {
     "data": {
      "text/plain": [
       "1024"
      ]
     },
     "execution_count": 14,
     "metadata": {},
     "output_type": "execute_result"
    }
   ],
   "source": [
    "2**10"
   ]
  },
  {
   "cell_type": "markdown",
   "metadata": {},
   "source": [
    "Es gilt \"Punkt vor Strich\":"
   ]
  },
  {
   "cell_type": "code",
   "execution_count": 15,
   "metadata": {},
   "outputs": [
    {
     "data": {
      "text/plain": [
       "22"
      ]
     },
     "execution_count": 15,
     "metadata": {},
     "output_type": "execute_result"
    }
   ],
   "source": [
    "4*5+2"
   ]
  },
  {
   "cell_type": "markdown",
   "metadata": {},
   "source": [
    "Klammerung möglich:"
   ]
  },
  {
   "cell_type": "code",
   "execution_count": 16,
   "metadata": {},
   "outputs": [
    {
     "data": {
      "text/plain": [
       "14"
      ]
     },
     "execution_count": 16,
     "metadata": {},
     "output_type": "execute_result"
    }
   ],
   "source": [
    "(3+4)*(5-3)"
   ]
  },
  {
   "cell_type": "markdown",
   "metadata": {},
   "source": [
    "### Werte und Typen\n",
    "Grundlegen bei jeder Form der Programmierung ist der Umgang mit Daten. Ein Datum hat einen *Wert* und einen *Typ*. Python ist eine sogenannte untypisierte Sprache, d.h., der Datentyp muss *nicht* explizit angegeben werden, sondern wird automatische bei der Verwendung des Datenwerts ermittelt. Dies vereinfacht die Programmierung in den meisten Fällen erheblich (kann jedoch hin und wieder zu Verwirrungen führen ...)."
   ]
  },
  {
   "cell_type": "markdown",
   "metadata": {},
   "source": [
    "Beispiele für Daten unterschiedlicher, elementarer Typen sind:"
   ]
  },
  {
   "cell_type": "markdown",
   "metadata": {},
   "source": [
    "Ganzzahlig (Integer, int):"
   ]
  },
  {
   "cell_type": "code",
   "execution_count": 17,
   "metadata": {},
   "outputs": [
    {
     "data": {
      "text/plain": [
       "5"
      ]
     },
     "execution_count": 17,
     "metadata": {},
     "output_type": "execute_result"
    }
   ],
   "source": [
    "5"
   ]
  },
  {
   "cell_type": "markdown",
   "metadata": {},
   "source": [
    "Gleitkomma (Floating point, float):"
   ]
  },
  {
   "cell_type": "code",
   "execution_count": 18,
   "metadata": {},
   "outputs": [
    {
     "data": {
      "text/plain": [
       "3.1415"
      ]
     },
     "execution_count": 18,
     "metadata": {},
     "output_type": "execute_result"
    }
   ],
   "source": [
    "3.1415"
   ]
  },
  {
   "cell_type": "markdown",
   "metadata": {},
   "source": [
    "Wahrheitswert (Boolean, bool):"
   ]
  },
  {
   "cell_type": "code",
   "execution_count": 19,
   "metadata": {},
   "outputs": [
    {
     "data": {
      "text/plain": [
       "True"
      ]
     },
     "execution_count": 19,
     "metadata": {},
     "output_type": "execute_result"
    }
   ],
   "source": [
    "True"
   ]
  },
  {
   "cell_type": "code",
   "execution_count": 20,
   "metadata": {},
   "outputs": [
    {
     "data": {
      "text/plain": [
       "False"
      ]
     },
     "execution_count": 20,
     "metadata": {},
     "output_type": "execute_result"
    }
   ],
   "source": [
    "False"
   ]
  },
  {
   "cell_type": "markdown",
   "metadata": {},
   "source": [
    "Text (String, str):"
   ]
  },
  {
   "cell_type": "code",
   "execution_count": 21,
   "metadata": {},
   "outputs": [
    {
     "data": {
      "text/plain": [
       "'Hello'"
      ]
     },
     "execution_count": 21,
     "metadata": {},
     "output_type": "execute_result"
    }
   ],
   "source": [
    "\"Hello\""
   ]
  },
  {
   "cell_type": "code",
   "execution_count": 22,
   "metadata": {},
   "outputs": [
    {
     "data": {
      "text/plain": [
       "\"What's your name?\""
      ]
     },
     "execution_count": 22,
     "metadata": {},
     "output_type": "execute_result"
    }
   ],
   "source": [
    "\"What's your name?\""
   ]
  },
  {
   "cell_type": "markdown",
   "metadata": {},
   "source": [
    "Strings können übrigens mittels dem `+` Operator zusammengesetzt (konkateniert) werden:"
   ]
  },
  {
   "cell_type": "code",
   "execution_count": 23,
   "metadata": {},
   "outputs": [
    {
     "data": {
      "text/plain": [
       "'Hello Peter'"
      ]
     },
     "execution_count": 23,
     "metadata": {},
     "output_type": "execute_result"
    }
   ],
   "source": [
    "\"Hello \" + \"Peter\""
   ]
  },
  {
   "cell_type": "markdown",
   "metadata": {},
   "source": [
    "Daneben gibt es komplexere Datentypen. Dazu später mehr."
   ]
  },
  {
   "cell_type": "markdown",
   "metadata": {},
   "source": [
    "### Variablen\n",
    "Variablen können beliebige Werte annehmen. Sie werden durch einen (eindeutigen) Bezeichner benannt."
   ]
  },
  {
   "cell_type": "code",
   "execution_count": 24,
   "metadata": {},
   "outputs": [],
   "source": [
    "var = 1"
   ]
  },
  {
   "cell_type": "code",
   "execution_count": 25,
   "metadata": {},
   "outputs": [
    {
     "data": {
      "text/plain": [
       "1"
      ]
     },
     "execution_count": 25,
     "metadata": {},
     "output_type": "execute_result"
    }
   ],
   "source": [
    "var"
   ]
  },
  {
   "cell_type": "code",
   "execution_count": 26,
   "metadata": {},
   "outputs": [
    {
     "ename": "NameError",
     "evalue": "name 'a' is not defined",
     "output_type": "error",
     "traceback": [
      "\u001b[1;31m---------------------------------------------------------------------------\u001b[0m",
      "\u001b[1;31mNameError\u001b[0m                                 Traceback (most recent call last)",
      "Cell \u001b[1;32mIn[26], line 1\u001b[0m\n\u001b[1;32m----> 1\u001b[0m \u001b[43ma\u001b[49m\n",
      "\u001b[1;31mNameError\u001b[0m: name 'a' is not defined"
     ]
    }
   ],
   "source": [
    "a"
   ]
  },
  {
   "cell_type": "code",
   "execution_count": null,
   "metadata": {},
   "outputs": [],
   "source": [
    "a = 3"
   ]
  },
  {
   "cell_type": "markdown",
   "metadata": {},
   "source": [
    "Bezeichner können aus Buchstaben, Zahlen und dem Unterstrich `_` bestehen, dürfen jedoch nicht mit einer Zahl beginnen. "
   ]
  },
  {
   "cell_type": "code",
   "execution_count": null,
   "metadata": {},
   "outputs": [],
   "source": [
    "name1 = \"John\""
   ]
  },
  {
   "cell_type": "code",
   "execution_count": null,
   "metadata": {},
   "outputs": [],
   "source": [
    "_age = 27"
   ]
  },
  {
   "cell_type": "code",
   "execution_count": null,
   "metadata": {},
   "outputs": [],
   "source": [
    "person_age = 25"
   ]
  },
  {
   "cell_type": "markdown",
   "metadata": {},
   "source": [
    "Es sind Groß- und Kleinbuchstaben erlaubt. Die Bezeichner sind \"case sensitive\", d.h. Groß- und Kleinbuchstaben werden als verschieden interpretiert."
   ]
  },
  {
   "cell_type": "markdown",
   "metadata": {},
   "source": [
    "Hier sind `x` und `X` zwei verschiedene Variablen:"
   ]
  },
  {
   "cell_type": "code",
   "execution_count": null,
   "metadata": {},
   "outputs": [],
   "source": [
    "x = 2.5\n",
    "X = 13"
   ]
  },
  {
   "cell_type": "code",
   "execution_count": null,
   "metadata": {},
   "outputs": [],
   "source": [
    "x"
   ]
  },
  {
   "cell_type": "code",
   "execution_count": null,
   "metadata": {},
   "outputs": [],
   "source": [
    "X"
   ]
  },
  {
   "cell_type": "markdown",
   "metadata": {},
   "source": [
    "Die Schreibweise, bei Bezeichner aus mehreren Wörtern bestehen und jeder Wortanfang durch einen Großbuchstaben gekennzeichnet ist, wird als *CamelCase* bezeichnet."
   ]
  },
  {
   "cell_type": "code",
   "execution_count": null,
   "metadata": {},
   "outputs": [],
   "source": [
    "PersonName = \"John\""
   ]
  },
  {
   "cell_type": "markdown",
   "metadata": {},
   "source": [
    "Auch hier bezeichnen `age`, `AGE` und `Age` verschiedene Variablen."
   ]
  },
  {
   "cell_type": "code",
   "execution_count": null,
   "metadata": {},
   "outputs": [],
   "source": [
    "age = 30\n",
    "AGE = 32\n",
    "Age = 34"
   ]
  },
  {
   "cell_type": "markdown",
   "metadata": {},
   "source": [
    "Variablen können überall verwendet werden, wo auch explizite Werte verwendet werden können."
   ]
  },
  {
   "cell_type": "code",
   "execution_count": null,
   "metadata": {},
   "outputs": [],
   "source": [
    "10 * x"
   ]
  },
  {
   "cell_type": "code",
   "execution_count": null,
   "metadata": {},
   "outputs": [],
   "source": [
    "x**2 - 3"
   ]
  },
  {
   "cell_type": "markdown",
   "metadata": {},
   "source": [
    "Daneben kann Variablen auch das Ergebnis einer Berechnung zugewiesen werden:"
   ]
  },
  {
   "cell_type": "code",
   "execution_count": null,
   "metadata": {},
   "outputs": [],
   "source": [
    "age_diff = Age - age"
   ]
  },
  {
   "cell_type": "code",
   "execution_count": null,
   "metadata": {},
   "outputs": [],
   "source": [
    "age_diff"
   ]
  },
  {
   "cell_type": "markdown",
   "metadata": {},
   "source": [
    "Die Belegung einer Variablen kann sich später wieder ändern (daher *variabel*). (Konstanten, die ihre Werte nicht mehr ändern können, gibt es im Gegensatz zu den meisten anderen Programmiersprachen, nicht.)"
   ]
  },
  {
   "cell_type": "code",
   "execution_count": null,
   "metadata": {},
   "outputs": [],
   "source": [
    "y = 2"
   ]
  },
  {
   "cell_type": "code",
   "execution_count": null,
   "metadata": {},
   "outputs": [],
   "source": [
    "y"
   ]
  },
  {
   "cell_type": "code",
   "execution_count": null,
   "metadata": {},
   "outputs": [],
   "source": [
    "y = 5"
   ]
  },
  {
   "cell_type": "code",
   "execution_count": null,
   "metadata": {},
   "outputs": [],
   "source": [
    "y"
   ]
  },
  {
   "cell_type": "markdown",
   "metadata": {},
   "source": [
    "Führen Sie nacheinander (oder in beliebiger Reihenfolge) die beiden vorherigen Zellen aus und anschließend die nachfolgende Zelle. "
   ]
  },
  {
   "cell_type": "code",
   "execution_count": null,
   "metadata": {},
   "outputs": [],
   "source": [
    "y + 10"
   ]
  },
  {
   "cell_type": "markdown",
   "metadata": {},
   "source": [
    "### Funktionen\n",
    "Funktionen sind eine festgelegte Abfolge von Anweisungen, die immer dann ausgeführt werden, wenn die Funktion aufgerufen wird. Funktionen können Parameter übergeben bekommen, und/oder einen Rückgabewert zurückliefern. Somit eignen Sie sich z.B. um eine komplexere Berechnung auszuführen, oder einen zusammengehörigen Block von Anweisungen zu beschreiben, der mehrmals in einem Programm verwendet wird.\n",
    "\n",
    "Funktionen besitzen, wie auch Variablen, einen Bezeichner. Parameter werden, durch Kommata getrennt, in runden Klammern nach dem Bezeichner an die Funktion übergeben. Der Rückgabewert, sofern es einen gibt, ist das Ergebnis der Ausführung der Funktion (wie bei obigen Rechenbeispielen) und kann bspw. einer Variablen zugewiesen werden. "
   ]
  },
  {
   "cell_type": "markdown",
   "metadata": {},
   "source": [
    "Funktionen können beliebig selbst definiert werden. Daneben gibt es sogenannte *built-in functions*, die in Python fest integriert sind. Außerdem sind Funktionen ein Hauptbestandteil von Bibliotheken (Modulen), welche für bestimmte Anwendungsbereiche verfügbar sind. Dazu später mehr."
   ]
  },
  {
   "cell_type": "markdown",
   "metadata": {},
   "source": [
    "#### Beispiele für built-in Funktionen\n",
    "Eine wichtige built-in Funktion ist `print()`. Sie gibt das was Sie als Parameter übergeben bekommt auf dem Ausgabegerät aus (üblicherweise Bildschirm)."
   ]
  },
  {
   "cell_type": "code",
   "execution_count": null,
   "metadata": {},
   "outputs": [],
   "source": [
    "print(x)\n",
    "print(y)"
   ]
  },
  {
   "cell_type": "code",
   "execution_count": null,
   "metadata": {},
   "outputs": [],
   "source": [
    "print(5)"
   ]
  },
  {
   "cell_type": "code",
   "execution_count": null,
   "metadata": {},
   "outputs": [],
   "source": [
    "print(\"Hello Mary!\")"
   ]
  },
  {
   "cell_type": "code",
   "execution_count": null,
   "metadata": {},
   "outputs": [],
   "source": [
    "name = \"Susan\"\n",
    "print(\"Hello \" + name + \"!\")"
   ]
  },
  {
   "cell_type": "markdown",
   "metadata": {},
   "source": [
    "Die `print()` Funktion eignet sich somit gut zum Ausgeben von Daten."
   ]
  },
  {
   "cell_type": "code",
   "execution_count": null,
   "metadata": {},
   "outputs": [],
   "source": [
    "a = 5\n",
    "b = 6\n",
    "print(b)\n",
    "result = a + b\n",
    "\n",
    "print(result)"
   ]
  },
  {
   "cell_type": "code",
   "execution_count": null,
   "metadata": {},
   "outputs": [],
   "source": [
    "result\n",
    "a"
   ]
  },
  {
   "cell_type": "markdown",
   "metadata": {},
   "source": [
    "Eine weitere built-in Funktion ist `type()`. Sie liefert den Datentyp eines Datums zurück."
   ]
  },
  {
   "cell_type": "markdown",
   "metadata": {},
   "source": [
    "Dieses kann expilzit angegeben sein ..."
   ]
  },
  {
   "cell_type": "code",
   "execution_count": null,
   "metadata": {},
   "outputs": [],
   "source": [
    "type(5)"
   ]
  },
  {
   "cell_type": "code",
   "execution_count": null,
   "metadata": {},
   "outputs": [],
   "source": [
    "type(2.17)"
   ]
  },
  {
   "cell_type": "code",
   "execution_count": null,
   "metadata": {},
   "outputs": [],
   "source": [
    "type(\"Hello\")"
   ]
  },
  {
   "cell_type": "code",
   "execution_count": null,
   "metadata": {},
   "outputs": [],
   "source": [
    "type(False)"
   ]
  },
  {
   "cell_type": "markdown",
   "metadata": {},
   "source": [
    "... oder ein Variableninhalt sein:"
   ]
  },
  {
   "cell_type": "code",
   "execution_count": null,
   "metadata": {},
   "outputs": [],
   "source": [
    "m = 4.5\n",
    "type(m)"
   ]
  },
  {
   "cell_type": "markdown",
   "metadata": {},
   "source": [
    "Ist es einmal notwendig, den Typ eines Datum explizit vorzugeben, so stehen hierfür auch built-in Funktionen bereit. Diesen Vorgang nennt man 'type casting' oder nur 'casting'."
   ]
  },
  {
   "cell_type": "markdown",
   "metadata": {},
   "source": [
    "Der Wert `4` wird von Python automatisch als Integer interpretiert..."
   ]
  },
  {
   "cell_type": "code",
   "execution_count": null,
   "metadata": {},
   "outputs": [],
   "source": [
    "var1 = 4\n",
    "type(var1)"
   ]
  },
  {
   "cell_type": "markdown",
   "metadata": {},
   "source": [
    "... soll er jedoch als String interpretiert werden, muss er explizit umgewandelt werden ..."
   ]
  },
  {
   "cell_type": "code",
   "execution_count": null,
   "metadata": {},
   "outputs": [],
   "source": [
    "var2 = str(4)\n",
    "type(var2)"
   ]
  },
  {
   "cell_type": "markdown",
   "metadata": {},
   "source": [
    "... ebenso, wenn er als Gleitkommazahl interpretiert werden soll:"
   ]
  },
  {
   "cell_type": "code",
   "execution_count": null,
   "metadata": {},
   "outputs": [],
   "source": [
    "var3 = float(4)\n",
    "type(var3)"
   ]
  },
  {
   "cell_type": "markdown",
   "metadata": {},
   "source": [
    "Der Unterschied wird auch bei der Ausgabe deutlich:"
   ]
  },
  {
   "cell_type": "code",
   "execution_count": null,
   "metadata": {},
   "outputs": [],
   "source": [
    "print(var1)\n",
    "print(var2)\n",
    "print(var3)"
   ]
  },
  {
   "cell_type": "markdown",
   "metadata": {},
   "source": [
    "String-Konkatenation ist beispielsweise nur mit Strings möglich. Vergleichen Sie die folgenden beiden Ausgaben:"
   ]
  },
  {
   "cell_type": "code",
   "execution_count": null,
   "metadata": {},
   "outputs": [],
   "source": [
    "print(\"Jack has \" + var1 + \" dogs.\")"
   ]
  },
  {
   "cell_type": "code",
   "execution_count": null,
   "metadata": {},
   "outputs": [],
   "source": [
    "print(\"Jack has \" + var2 + \" dogs.\")"
   ]
  },
  {
   "cell_type": "markdown",
   "metadata": {},
   "source": [
    "## Kollektionen\n",
    "Neben den elementaren (primitiven) Datentypen gibt es komplexe Datentpyen. Diese setzten sich in der Regel aus mehreren Elementen zusammen. Wichtige vertreter von komplexen Datentypen sind Kollektionen (*Collections*). Dazu zählen Listen, Mengen, oder Tupel."
   ]
  },
  {
   "cell_type": "markdown",
   "metadata": {},
   "source": [
    "### Listen\n",
    "Wichtiger Bestandteil in Python sind Listen. Eine Liste enthält eine **geordnete** Menge von Daten, die nachträglich **verändert** werden kann.\n",
    "\n",
    "Listen sind durch eckige Klammern gekennzeichnet."
   ]
  },
  {
   "cell_type": "markdown",
   "metadata": {},
   "source": [
    "Listen können aus Daten gleichen Typs bestehen ..."
   ]
  },
  {
   "cell_type": "code",
   "execution_count": null,
   "metadata": {},
   "outputs": [],
   "source": [
    "list1 = [1, 3, 5, 7]\n",
    "print(list1)"
   ]
  },
  {
   "cell_type": "markdown",
   "metadata": {},
   "source": [
    "... oder aus Daten unterschiedlicher Typen:"
   ]
  },
  {
   "cell_type": "code",
   "execution_count": null,
   "metadata": {},
   "outputs": [],
   "source": [
    "list2 = [1, 3, \"Hello\", 4, \"Bye\", 10]\n",
    "print(list2)"
   ]
  },
  {
   "cell_type": "markdown",
   "metadata": {},
   "source": [
    "Der Typ der Liste ist entsprechend:"
   ]
  },
  {
   "cell_type": "code",
   "execution_count": null,
   "metadata": {},
   "outputs": [],
   "source": [
    "type(list1)"
   ]
  },
  {
   "cell_type": "markdown",
   "metadata": {},
   "source": [
    "Oft ist es erforderlich nur bestimmte Teile einer Liste zu betrachten. Dies wird als *slicing* bezeichnet. Der Zugriff auf bestimmte Elemente der Liste erfolgt über die Angabe der Positionen (Indizes) der Elemente über eckige Klammern. Dabei sind einzelne Indizes, aber auch Bereichsangaben möglich. Bereiche werden durch einen Anfangsindex und einen Endindex, getrennt durch `:` angegeben. (Beachten Sie: Informatiker beginnen gerne bei 0 zu zählen. D.h., das erste Element der Liste hat den Index 0.)"
   ]
  },
  {
   "cell_type": "code",
   "execution_count": null,
   "metadata": {},
   "outputs": [],
   "source": [
    "print(list2[0])          # Erstes Element der Liste\n",
    "print(list2[1])          # Zweites Element der Liste\n",
    "print(list2[-1])         # Letzer Eintrag der Liste\n",
    "\n",
    "start = 1\n",
    "stop = 5\n",
    "print(list2[start:stop]) # Einträge start bis stop-1\n",
    "print(list2[start:])     # Einträge start bis Ende der Liste\n",
    "print(list2[:stop])      # Einträge vom Anfang bis stop-1\n",
    "\n",
    "print(list2[:])          # ein Kopie der gesamten Liste\n",
    "print(list2[-2:])        # Letzten beiden Einträge der liste\n",
    "print(list2[:-2])        # Alle Einträge bis auf die letzten beiden"
   ]
  },
  {
   "cell_type": "markdown",
   "metadata": {},
   "source": [
    "### Mengen\n",
    "Im Gegensatz zu Listen sind Mengen **ungeordnet**, d.h. es gibt keine bestimmte Reihenfolge der enthaltenen Elemente. Auf die Elemente kann entsprechend auch nicht über ihren Index zugegriffen werden. Die Elemente einer Liste können nachträglich auch **nicht mehr verändert** werden. Es können jedoch Elemente hinzugefügt oder gelöscht werden. Mengen sind durch geschweifte Klammern gekennzeichnet."
   ]
  },
  {
   "cell_type": "code",
   "execution_count": null,
   "metadata": {},
   "outputs": [],
   "source": [
    "set1 = {2, 4, 6}"
   ]
  },
  {
   "cell_type": "code",
   "execution_count": null,
   "metadata": {},
   "outputs": [],
   "source": [
    "type(set1)"
   ]
  },
  {
   "cell_type": "markdown",
   "metadata": {},
   "source": [
    "Mengen können keine Duplikate enthalten."
   ]
  },
  {
   "cell_type": "markdown",
   "metadata": {},
   "source": [
    "### Tupel"
   ]
  },
  {
   "cell_type": "markdown",
   "metadata": {},
   "source": [
    "Ein weiterer komplexer Datentyp in Python ist das Tuple. Es repräsentiert eine Menge, die **geordnet** aber **nicht veränderbar** ist. Es können im Gegensatz zu Mengen auch keine Elemente hinzugefügt oder gelöscht werden. Ein Tupel ist durch runde Klammern gekennzeichnet."
   ]
  },
  {
   "cell_type": "code",
   "execution_count": null,
   "metadata": {},
   "outputs": [],
   "source": [
    "tuple1 = (\"John\", 25)"
   ]
  },
  {
   "cell_type": "code",
   "execution_count": null,
   "metadata": {},
   "outputs": [],
   "source": [
    "type(tuple1)"
   ]
  },
  {
   "cell_type": "markdown",
   "metadata": {},
   "source": [
    "Der Zugriff auf Tupel kann, wie bei Listen, über den Index erfolgen:"
   ]
  },
  {
   "cell_type": "code",
   "execution_count": null,
   "metadata": {},
   "outputs": [],
   "source": [
    "print(tuple1[0])\n",
    "print(tuple1[1])"
   ]
  },
  {
   "cell_type": "markdown",
   "metadata": {},
   "source": [
    "Alternativ können Tupel auch \"entpackt\" werden:"
   ]
  },
  {
   "cell_type": "code",
   "execution_count": null,
   "metadata": {},
   "outputs": [],
   "source": [
    "(n,a) = tuple1\n",
    "print(n)\n",
    "print(a)"
   ]
  },
  {
   "cell_type": "markdown",
   "metadata": {},
   "source": [
    "Sind bestimmte Elemente in einer Situation nicht relevant, so kann auch ein Platzhalter `_` verwendet werden. Der Wert an der entsprechenden Stelle wird dann einfach verworfen:"
   ]
  },
  {
   "cell_type": "code",
   "execution_count": null,
   "metadata": {},
   "outputs": [],
   "source": [
    "(n,_) = tuple1\n",
    "print(n)"
   ]
  },
  {
   "cell_type": "markdown",
   "metadata": {},
   "source": [
    "Tupel werden häufig eingesetzt um Funktionsparameter oder Rückgabewerte als Paare darzustellen."
   ]
  },
  {
   "cell_type": "markdown",
   "metadata": {},
   "source": [
    "### Listen, Mengen und Tupel: Operationen und Vergleich"
   ]
  },
  {
   "cell_type": "markdown",
   "metadata": {},
   "source": [
    "Bei allen Collection Typen, wie bei allen anderen Typen auch, ist es möglich den Typ festzustellen:"
   ]
  },
  {
   "cell_type": "code",
   "execution_count": null,
   "metadata": {},
   "outputs": [],
   "source": [
    "type(list1)"
   ]
  },
  {
   "cell_type": "code",
   "execution_count": null,
   "metadata": {},
   "outputs": [],
   "source": [
    "type(set1)"
   ]
  },
  {
   "cell_type": "code",
   "execution_count": null,
   "metadata": {},
   "outputs": [],
   "source": [
    "type(tuple1)"
   ]
  },
  {
   "cell_type": "markdown",
   "metadata": {},
   "source": [
    "Ebenso ist es bei allen Collection Typen möglich, die Länge / Größe über die built-in Funktion `len()` abzufragen:"
   ]
  },
  {
   "cell_type": "code",
   "execution_count": null,
   "metadata": {},
   "outputs": [],
   "source": [
    "len(list1)"
   ]
  },
  {
   "cell_type": "code",
   "execution_count": null,
   "metadata": {},
   "outputs": [],
   "source": [
    "len(set1)"
   ]
  },
  {
   "cell_type": "code",
   "execution_count": null,
   "metadata": {},
   "outputs": [],
   "source": [
    "len(tuple1)"
   ]
  },
  {
   "cell_type": "markdown",
   "metadata": {},
   "source": [
    "#### Hinzufügen von Elementen"
   ]
  },
  {
   "cell_type": "markdown",
   "metadata": {},
   "source": [
    "Bei Listen können Elemente angehängt werden (über die built-in Funktion `append()`):"
   ]
  },
  {
   "cell_type": "code",
   "execution_count": null,
   "metadata": {},
   "outputs": [],
   "source": [
    "print(list1)\n",
    "list1.append(\"New element\")\n",
    "print(list1)"
   ]
  },
  {
   "cell_type": "markdown",
   "metadata": {},
   "source": [
    "Zu Mengen können Elemente hinzugefügt werden (über die built-in Funktion `add()`):"
   ]
  },
  {
   "cell_type": "code",
   "execution_count": null,
   "metadata": {},
   "outputs": [],
   "source": [
    "print(set1)\n",
    "set1.add(\"New element\")\n",
    "print(set1)"
   ]
  },
  {
   "cell_type": "markdown",
   "metadata": {},
   "source": [
    "Tuple sind unveränderlich, d.h., sie besitzen keine built-in Funktion zum Hinzufügen von Elementen."
   ]
  },
  {
   "cell_type": "markdown",
   "metadata": {},
   "source": [
    "#### Entfernen von Elementen"
   ]
  },
  {
   "cell_type": "markdown",
   "metadata": {},
   "source": [
    "Elemente von Listen können über ihren Index identifiziert und gelöscht werden. Dies geschieht mittels der built-in Funktion `pop()`:"
   ]
  },
  {
   "cell_type": "code",
   "execution_count": null,
   "metadata": {},
   "outputs": [],
   "source": [
    "print(list1)\n",
    "list1.pop(1)\n",
    "print(list1)"
   ]
  },
  {
   "cell_type": "markdown",
   "metadata": {},
   "source": [
    "Wird kein Index als Parameter für `pop()` angegeben, wird das letzte Element gelöscht:"
   ]
  },
  {
   "cell_type": "code",
   "execution_count": null,
   "metadata": {},
   "outputs": [],
   "source": [
    "print(list1)\n",
    "list1.pop()\n",
    "print(list1)"
   ]
  },
  {
   "cell_type": "markdown",
   "metadata": {},
   "source": [
    "Es können auch Elemente anhand ihres Wertes direkt gelöscht werden (ohne Angabe eines Index). Hierfür gibt es die built-in Funktion `remove()`: (Existiert ein Wert mehrmals in der Liste, so wird das erste Vorkommen des Wertes gelöscht.)"
   ]
  },
  {
   "cell_type": "code",
   "execution_count": null,
   "metadata": {},
   "outputs": [],
   "source": [
    "list1.append(3)"
   ]
  },
  {
   "cell_type": "code",
   "execution_count": null,
   "metadata": {},
   "outputs": [],
   "source": [
    "print(list1)\n",
    "list1.remove(3)\n",
    "print(list1)"
   ]
  },
  {
   "cell_type": "markdown",
   "metadata": {},
   "source": [
    "Für Mengen existiert die built-in Funktion `remove()` ebenfalls:"
   ]
  },
  {
   "cell_type": "code",
   "execution_count": null,
   "metadata": {},
   "outputs": [],
   "source": [
    "print(set1)\n",
    "set1.remove(\"New element\")\n",
    "print(set1)"
   ]
  },
  {
   "cell_type": "markdown",
   "metadata": {},
   "source": [
    "Existiert kein entsprechendes Element, liefert `remove()` einen Fehler:"
   ]
  },
  {
   "cell_type": "code",
   "execution_count": null,
   "metadata": {},
   "outputs": [],
   "source": [
    "print(set1)\n",
    "set1.remove(\"New element\")\n",
    "print(set1)"
   ]
  },
  {
   "cell_type": "markdown",
   "metadata": {},
   "source": [
    "Wird statt `remove()` die built-in Funktion `discard()` verwendet, so gibt es keinen Fehler, falls das Element nicht in der Menge enthalten ist:"
   ]
  },
  {
   "cell_type": "code",
   "execution_count": null,
   "metadata": {},
   "outputs": [],
   "source": [
    "print(set1)\n",
    "set1.discard(\"New element\")\n",
    "print(set1)"
   ]
  },
  {
   "cell_type": "markdown",
   "metadata": {},
   "source": [
    "#### Ändern von Elementen"
   ]
  },
  {
   "cell_type": "markdown",
   "metadata": {},
   "source": [
    "Nur bei Listen ist es möglich, Elemente zu ändern:"
   ]
  },
  {
   "cell_type": "code",
   "execution_count": null,
   "metadata": {},
   "outputs": [],
   "source": [
    "list1"
   ]
  },
  {
   "cell_type": "code",
   "execution_count": null,
   "metadata": {},
   "outputs": [],
   "source": [
    "list1[0] = \"Changed\""
   ]
  },
  {
   "cell_type": "code",
   "execution_count": null,
   "metadata": {},
   "outputs": [],
   "source": [
    "list1"
   ]
  },
  {
   "cell_type": "code",
   "execution_count": null,
   "metadata": {},
   "outputs": [],
   "source": [
    "tuple1[0] = \"Changed\""
   ]
  },
  {
   "cell_type": "code",
   "execution_count": null,
   "metadata": {},
   "outputs": [],
   "source": [
    "tuple1[0]"
   ]
  },
  {
   "cell_type": "markdown",
   "metadata": {},
   "source": [
    "Für Mengen gibt es keine Indizierung, deshalb kann auf einzelne Elemente nicht gezielt zugegriffen werden."
   ]
  },
  {
   "cell_type": "markdown",
   "metadata": {},
   "source": [
    "## Module\n",
    "Module sind Python Bibliotheken, die Funktionen, Variablen, Klassen, etc. zur Verfügung stellen. Diese bieten bestimmte Funktionalitäten um bestimmte Arten von Anwendungen zu realisieren. Es gibt beispielsweise Module zur Verwaltung großer Datenmengen, zum Plotten von Graphen, zum Maschinellen Lernen, zum Zugriff auf Datenbanken, und viele mehr."
   ]
  },
  {
   "cell_type": "markdown",
   "metadata": {},
   "source": [
    "### Verwenden von Modulen\n",
    "Um ein Modul zu verwenden, muss es (1) installiert sein und (2) in der eigenen Anwendung importiert werden.\n",
    "\n",
    "Die gängigen Python-Distributionen (z.B. Anaconda) beinhalten bereits eine große Auswahl von Modulen. Die in diesem Kurs verwendeten Module müssen also nicht explizit nachinstalliert werden."
   ]
  },
  {
   "cell_type": "markdown",
   "metadata": {},
   "source": [
    "Der Import eines Moduls erfolgt über das Schlüsselwort `import`. Wir importieren hier beispielsweise das Modul `numpy`:"
   ]
  },
  {
   "cell_type": "code",
   "execution_count": null,
   "metadata": {},
   "outputs": [],
   "source": [
    "import numpy"
   ]
  },
  {
   "cell_type": "markdown",
   "metadata": {},
   "source": [
    "Alle Elemente (Funktionen, Variablen, etc.) des Moduls sind im Namensraum (*namespace*) des Moduls verfügbar. Der Namensraum heißt standardäßig so, wie das Modul selbst, also in diesem Fall `numpy`."
   ]
  },
  {
   "cell_type": "markdown",
   "metadata": {},
   "source": [
    "Im Modul `numpy` gibt es eine Variable `__version__`. Diese beinhaltet die Versionsnummer des Moduls. Über den Namensraum können wir wie folgt darauf zugreifen und uns die Version des installierten `numpy` Moduls anzeigen lassen:"
   ]
  },
  {
   "cell_type": "code",
   "execution_count": null,
   "metadata": {},
   "outputs": [],
   "source": [
    "print(numpy.__version__)"
   ]
  },
  {
   "cell_type": "markdown",
   "metadata": {},
   "source": [
    "Ebenso lassen sich Funktionen des Moduls über den Namensraum aufrufen, z.B.:"
   ]
  },
  {
   "cell_type": "code",
   "execution_count": null,
   "metadata": {},
   "outputs": [],
   "source": [
    "numpy.mean([1,2,3])"
   ]
  },
  {
   "cell_type": "markdown",
   "metadata": {},
   "source": [
    "Ist der Bezeichner des Namensraums zu lang oder umständlich zu schreiben, kann er beim Import auch umbenannt werden. `numpy` wird bspw. oft als `np` abgekürzt:"
   ]
  },
  {
   "cell_type": "code",
   "execution_count": null,
   "metadata": {},
   "outputs": [],
   "source": [
    "import numpy as np"
   ]
  },
  {
   "cell_type": "code",
   "execution_count": null,
   "metadata": {},
   "outputs": [],
   "source": [
    "print(np.__version__)"
   ]
  },
  {
   "cell_type": "markdown",
   "metadata": {},
   "source": [
    "Werden nicht alle Elemente eines Moduls benötigt, kann auch selektiv importiert werden:"
   ]
  },
  {
   "cell_type": "code",
   "execution_count": null,
   "metadata": {},
   "outputs": [],
   "source": [
    "from numpy import mean"
   ]
  },
  {
   "cell_type": "markdown",
   "metadata": {},
   "source": [
    "In diesem Fall wird nur die Funktion `mean` aus dem Modul `numpy` importiert. Sie wird in den Standard-Namensraum importiert und kann ohne Namensraumprefix (`numpy.`) verwendet werden."
   ]
  },
  {
   "cell_type": "code",
   "execution_count": null,
   "metadata": {},
   "outputs": [],
   "source": [
    "mean([1,2,3])"
   ]
  },
  {
   "cell_type": "markdown",
   "metadata": {},
   "source": [
    "Auch in diesem Fall kann eine Umbenennung erfolgen:"
   ]
  },
  {
   "cell_type": "code",
   "execution_count": null,
   "metadata": {},
   "outputs": [],
   "source": [
    "from numpy import mean as mn"
   ]
  },
  {
   "cell_type": "code",
   "execution_count": null,
   "metadata": {},
   "outputs": [],
   "source": [
    "mn([1,2,3])"
   ]
  },
  {
   "cell_type": "markdown",
   "metadata": {},
   "source": [
    "### Module und Packages\n",
    "Häufig sind mehrere Module in einem Package organisiert. In diesem Fall lassen sich einzelne Module aus einem Package durch die gleiche Syntax importieren. Beispiel:"
   ]
  },
  {
   "cell_type": "code",
   "execution_count": null,
   "metadata": {},
   "outputs": [],
   "source": [
    "import matplotlib.pyplot as plt"
   ]
  },
  {
   "cell_type": "markdown",
   "metadata": {},
   "source": [
    "Dies importiert das Modul `pyplot` aus dem Package `matplotlib` und benennt es in `plt` um. In diesem Fall bezieht sich `plt` auf ein Modul und nicht ein einzelnes Element des Moduls. Daher erfolgt der Zugriff auf Funktionen, etc. aus dem Modul entsprechend über `plt.`, z.B. `plt.plot()`."
   ]
  },
  {
   "cell_type": "markdown",
   "metadata": {},
   "source": [
    "Alternativ ist folgende Anweisung möglich, analog zum Import einzelner Elemente eines Moduls:"
   ]
  },
  {
   "cell_type": "code",
   "execution_count": null,
   "metadata": {},
   "outputs": [],
   "source": [
    "from matplotlib import pyplot as plt"
   ]
  },
  {
   "cell_type": "markdown",
   "metadata": {},
   "source": [
    "---"
   ]
  },
  {
   "cell_type": "markdown",
   "metadata": {},
   "source": [
    "## Aufgaben\n"
   ]
  },
  {
   "cell_type": "markdown",
   "metadata": {},
   "source": [
    "### Aufgabe 1\n",
    "Speichern Sie Länge, Breite und Höhe eines Quaders in drei entsprechenden Variablen. Geben Sie anschließend unter Verwendung der Variablen eine Formel für die Berechnung des Volumens an und führen Sie die Zelle aus um die Berechnung zu starten."
   ]
  },
  {
   "cell_type": "code",
   "execution_count": 29,
   "metadata": {},
   "outputs": [
    {
     "data": {
      "text/plain": [
       "60"
      ]
     },
     "execution_count": 29,
     "metadata": {},
     "output_type": "execute_result"
    }
   ],
   "source": [
    "lenght, width, height = 5,4,3\n",
    "volume = lenght*width*height\n",
    "volume"
   ]
  },
  {
   "cell_type": "markdown",
   "metadata": {},
   "source": [
    "### Aufgabe 2\n",
    "Speichern Sie Größe und Gewicht einer Person in zwei entsprechenden Variablen. Berechnen Sie den Body-Mass-Index (BMI) und speichern das Ergebnis ebenfalls in einer Variablen ab. Geben Sie das Ergebnis anschließend auf dem Bildschirm aus. Welchen Datentyp hat das Ergebnis?"
   ]
  },
  {
   "cell_type": "code",
   "execution_count": 33,
   "metadata": {},
   "outputs": [
    {
     "name": "stdout",
     "output_type": "stream",
     "text": [
      "Ergebniss:24.691358024691358\n",
      " Datentyp:<class 'float'>\n"
     ]
    }
   ],
   "source": [
    "p_height,p_weight = 1.8,80\n",
    "bmi = p_weight/p_height**2\n",
    "print(f'Ergebniss:{bmi}\\n Datentyp:{type(bmi)}')"
   ]
  },
  {
   "cell_type": "markdown",
   "metadata": {},
   "source": [
    "### Aufgabe 3\n",
    "Erstellen Sie ein Tupel aus zwei Elementen, das den Namen und den BMI einer Person speichert. Verwenden Sie dazu den in der vorerigen Aufgabe berechneten BMI. Geben Sie folgenden Text auf dem Bildschirm aus: \"*name*, dein BMI ist *bmi*.\", wobei *name* und *bmi* die entsprechenden Werte aus dem Tupel darstellen sollen."
   ]
  },
  {
   "cell_type": "code",
   "execution_count": 34,
   "metadata": {},
   "outputs": [
    {
     "name": "stdout",
     "output_type": "stream",
     "text": [
      "Phil, dein BMI ist 24.691358024691358\n"
     ]
    }
   ],
   "source": [
    "tupel = ['Phil', bmi]\n",
    "print(f'{tupel[0]}, dein BMI ist {tupel[1]}')"
   ]
  },
  {
   "cell_type": "markdown",
   "metadata": {},
   "source": [
    "### Aufgabe 4\n",
    "Erstellen Sie eine Liste mit mindestens 5 (beliebigen) BMI Werten. Benutzen Sie die built-in Funktion `min` um den niedrigsten BMI Wert der Liste zu ermitteln."
   ]
  },
  {
   "cell_type": "code",
   "execution_count": 45,
   "metadata": {},
   "outputs": [
    {
     "name": "stdout",
     "output_type": "stream",
     "text": [
      "[23, 20, 24, 23, 21]\n",
      "20\n"
     ]
    }
   ],
   "source": [
    "import numpy as np\n",
    "bmis= list(np.random.choice(range(18,25), size=5))\n",
    "print(bmis)\n",
    "print(min(bmis))"
   ]
  },
  {
   "cell_type": "markdown",
   "metadata": {},
   "source": [
    "### Aufgabe 5\n",
    "Erweitern Sie die Liste aus Aufgabe 4 um den in Aufgabe 2 berechneten BMI Wert."
   ]
  },
  {
   "cell_type": "code",
   "execution_count": 46,
   "metadata": {},
   "outputs": [
    {
     "data": {
      "text/plain": [
       "[23, 20, 24, 23, 21, 24.691358024691358]"
      ]
     },
     "execution_count": 46,
     "metadata": {},
     "output_type": "execute_result"
    }
   ],
   "source": [
    "bmis.append(bmi)\n",
    "bmis"
   ]
  },
  {
   "cell_type": "markdown",
   "metadata": {},
   "source": [
    "### Aufgabe 6\n",
    "Importieren Sie das Modul `statistics`. Dieses beinhaltet eine Funktion namens `mean`. Benutzen Sie diese Funktion um den Mittelwert der BMI-Werte aus der Liste aus vorheriger Aufgabe zu berechnen."
   ]
  },
  {
   "cell_type": "code",
   "execution_count": null,
   "metadata": {},
   "outputs": [],
   "source": []
  },
  {
   "cell_type": "markdown",
   "metadata": {},
   "source": [
    "### Aufgabe 7\n",
    "Erstellen Sie eine Variable die einen Kreisdurchmesser als Wert enthält. Berechnen Sie die Kreisfläche. Für die Kreiszahl $\\pi$ importieren Sie die Variable namens `pi` aus dem Modul `math`. Für eine kürzere Schreibweise benennen Sie die Variable beim Import um in `PI`, so dass sie ohne Namespace-Prefix verwendet werden kann."
   ]
  },
  {
   "cell_type": "code",
   "execution_count": null,
   "metadata": {},
   "outputs": [],
   "source": []
  },
  {
   "cell_type": "markdown",
   "metadata": {},
   "source": [
    "### Aufgabe 8\n",
    "Wie lässt sich die Funktion des Modulo-Operators (`%`) beschreiben, ohne ihn zu verwenden (durch Verwendung anderer Operatoren)? Tragen Sie die Lösung anhand eines Beispiels in der folgenden Code-Zelle ein."
   ]
  },
  {
   "cell_type": "code",
   "execution_count": null,
   "metadata": {},
   "outputs": [],
   "source": []
  }
 ],
 "metadata": {
  "kernelspec": {
   "display_name": "Python 3 (ipykernel)",
   "language": "python",
   "name": "python3"
  },
  "language_info": {
   "codemirror_mode": {
    "name": "ipython",
    "version": 3
   },
   "file_extension": ".py",
   "mimetype": "text/x-python",
   "name": "python",
   "nbconvert_exporter": "python",
   "pygments_lexer": "ipython3",
   "version": "3.10.11"
  }
 },
 "nbformat": 4,
 "nbformat_minor": 4
}
