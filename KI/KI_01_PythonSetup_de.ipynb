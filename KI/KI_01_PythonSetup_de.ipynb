{
 "cells": [
  {
   "cell_type": "markdown",
   "metadata": {},
   "source": [
    "# Business Analytics und Künstliche Intelligenz\n",
    "Wintersemester 2023/2024\n",
    "\n",
    "Prof. Dr. Jürgen Bock"
   ]
  },
  {
   "cell_type": "markdown",
   "metadata": {},
   "source": [
    "## Willkommen"
   ]
  },
  {
   "cell_type": "markdown",
   "metadata": {},
   "source": [
    "Herzlich Willkommen in im Jupyter Notebook, einer interaktiven Python-Umgebung. Die Tatsache, dass Sie hier sind und diesen Text lesen können bedeutet, dass sie schonmal Python und Jupyter Notebook erfolgreich auf Ihrem System installiert haben.\n",
    "\n",
    "Den Themenkomplex \"Neuronale Netze\" werden wir ausschließlich in dieser Python-Umgebung bearbeiten. Python hat sich in den letzten Jahren gerade im Bereich Machine Learning (insb. Neuronale Netze) quasi als *lingua franca* etabilert. Als Ergänzung bietet Jupyter Notebook eine interaktive Umgebung, die gerade bei Data Scientists sehr beliebt geworden ist, da sie sich für die Datenexploration in einer Python-Umgebung, das sukzessive Entwickeln von Python-Code in Kombination mit eingebauten Dokumentationsmöglichkeiten anbietet. Betrachten Sie die Arbeit mit Python und Jupyter Notebook als einen Teil der Lerninhalte, denn durch den großen Umfang an Python Bibliotheken bieten sie den Startpunkt für unzähliche Anwendungen im Bereich Machine Learning und Data Science."
   ]
  },
  {
   "cell_type": "markdown",
   "metadata": {},
   "source": [
    "## Jupyter Notebook Basics"
   ]
  },
  {
   "cell_type": "markdown",
   "metadata": {},
   "source": [
    "Ein Jupyter Notebook, wie das das SIe gerade betrachten, besteht aus Zellen. Es gibt im Wesenlichen Code-Zellen und Markdown-Zellen. Markdown-Zellen enthalten formatierten Text zur Strukturierung, Dokumentation, Kommentierung, etc. Code-Zellen enthalten ausführbaren Code. In einem Python-Notebook ist das Python-Code, der Zelle für Zelle an den Python Interpreter, den sog. Kernel, geschickt und damit ausgeführt werden kann. Das Ergebnis der Ausführung sehen Sie ebenfalls im Jupyter Notebook.\n",
    "\n",
    "Wenn Sie eine Zelle auswählen und *Enter* betätigen, befinden Sie sich im Editier-Modus. *Strg-Enter* führt die Zelle aus, *Shift-Enter* führt die Zelle aus und wählt die nächste aus, und *Alt-Enter* führt die Zelle aus und fügt eine neue, leere Zelle darunter ein. Daneben gibt es unzählige weitere Shortcuts, die im obigen Menü unter *Help -> Keyboard Shortcuts* aufgelistet sind. Daneben sind die wichtigsten Befehle auch direkt aus obigem Menü oder der Navigationsleiste zugänglich. Bitte nehmen Sie doch gleich an der kurzen *User Interface Tour* oben aus dem *Help* Menü teil, um einen ersten Überblick über Jupyter Notebook zu erhalten."
   ]
  },
  {
   "cell_type": "markdown",
   "metadata": {},
   "source": [
    "## Versionskontrolle"
   ]
  },
  {
   "cell_type": "markdown",
   "metadata": {},
   "source": [
    "Wir werden uns nur mit einem Bruchteil der Möglichkeiten von Python im Bereich Machine Learning und Data Science im Rahmen dieses Kurses beschäftigen können. Dafür benötigen wir einige Packages und Module deren Vorhandensein und Versionen wir hier kurz überprüfen. Generell gilt, dass die Packages und Module vorhanden sein sollten. Sollte die bei Ihnen installierte Version älter als die angegebene Version sein, ist es durchaus möglich, dass die Code-Beispiele trotzdem funktionieren. Garantiert ist es allerdings nicht. Es empfiehlt sich also, mindestens die hier angegebenen Versionen zu installieren.\n",
    "\n",
    "Wählen Sie bitte die nachfolgenden Code-Zellen aus und führen Sie sie mit *Shift-Enter* oder *Strg-Enter* aus."
   ]
  },
  {
   "cell_type": "markdown",
   "metadata": {},
   "source": [
    "### Python"
   ]
  },
  {
   "cell_type": "code",
   "execution_count": 3,
   "metadata": {},
   "outputs": [
    {
     "name": "stdout",
     "output_type": "stream",
     "text": [
      "3.10.11 (tags/v3.10.11:7d4cc5a, Apr  5 2023, 00:38:17) [MSC v.1929 64 bit (AMD64)]\n"
     ]
    }
   ],
   "source": [
    "import sys\n",
    "print(sys.version)"
   ]
  },
  {
   "cell_type": "markdown",
   "metadata": {},
   "source": [
    "Das Modul *sys* sollte in jeder Python-Installation vorhanden sein und ohne Fehler importiert werden können. Die Code-Beispiele wurden in der Python Version 3.8.3 entwickelt. Sie sollten daher mindestens eine Version > 3.8.3 installiert haben."
   ]
  },
  {
   "cell_type": "markdown",
   "metadata": {},
   "source": [
    "### Numpy"
   ]
  },
  {
   "cell_type": "code",
   "execution_count": 4,
   "metadata": {},
   "outputs": [],
   "source": [
    "import numpy"
   ]
  },
  {
   "cell_type": "markdown",
   "metadata": {},
   "source": [
    "Numpy sollte in den gängigen Python-Distributionen enthalten sein. Falls nicht, installieren Sie bitte das Numpy Package."
   ]
  },
  {
   "cell_type": "code",
   "execution_count": 5,
   "metadata": {},
   "outputs": [
    {
     "name": "stdout",
     "output_type": "stream",
     "text": [
      "1.26.3\n"
     ]
    }
   ],
   "source": [
    "print(numpy.__version__)"
   ]
  },
  {
   "cell_type": "markdown",
   "metadata": {},
   "source": [
    "Die Beispiele wurden mit Numpy 1.18.5 erstellt und getestet."
   ]
  },
  {
   "cell_type": "markdown",
   "metadata": {},
   "source": [
    "### Scikit-Learn"
   ]
  },
  {
   "cell_type": "code",
   "execution_count": 6,
   "metadata": {},
   "outputs": [],
   "source": [
    "import sklearn"
   ]
  },
  {
   "cell_type": "markdown",
   "metadata": {},
   "source": [
    "Scikit-Learn sollte in den gängigen Python-Distributionen enthalten sein. Falls nicht, installieren Sie bitte das Package nach."
   ]
  },
  {
   "cell_type": "code",
   "execution_count": 7,
   "metadata": {},
   "outputs": [
    {
     "name": "stdout",
     "output_type": "stream",
     "text": [
      "1.4.0\n"
     ]
    }
   ],
   "source": [
    "print(sklearn.__version__)"
   ]
  },
  {
   "cell_type": "markdown",
   "metadata": {},
   "source": [
    "Die Beispiele wurden mit Sckit-Learn 0.23.1 erstellt und getestet."
   ]
  },
  {
   "cell_type": "markdown",
   "metadata": {},
   "source": [
    "### Matplotlib"
   ]
  },
  {
   "cell_type": "code",
   "execution_count": 8,
   "metadata": {},
   "outputs": [],
   "source": [
    "import matplotlib"
   ]
  },
  {
   "cell_type": "markdown",
   "metadata": {},
   "source": [
    "Matplotlib sollte in den gängigen Python-Distributionen enthalten sein. Falls nicht, installieren Sie bitte das Package nach."
   ]
  },
  {
   "cell_type": "code",
   "execution_count": 9,
   "metadata": {},
   "outputs": [
    {
     "name": "stdout",
     "output_type": "stream",
     "text": [
      "3.8.2\n"
     ]
    }
   ],
   "source": [
    "print(matplotlib.__version__)"
   ]
  },
  {
   "cell_type": "markdown",
   "metadata": {},
   "source": [
    "Die Beispiele wurden mit Matplotlib 3.2.2 erstellt und getestet."
   ]
  },
  {
   "cell_type": "markdown",
   "metadata": {},
   "source": [
    "### PyTorch\n",
    "PyTorch ist die Python-Bibliothek, die wir zum Erstellen und Trainieren von Neuronalen Netzen verwenden werden. Sie ist in den Python-Distributionen oft nicht standardmäßig installiert.\n",
    "\n",
    "Unter https://pytorch.org/get-started/locally/ erfahren Sie, wie sie PyTorch in ihrer jeweiligen Python Distribution installieren können. Stellen Sie sicher, dass dabei das Package *torchvision* mit installiert wird."
   ]
  },
  {
   "cell_type": "markdown",
   "metadata": {},
   "source": [
    "#### PyTorch Basispackage"
   ]
  },
  {
   "cell_type": "code",
   "execution_count": 10,
   "metadata": {},
   "outputs": [],
   "source": [
    "import torch"
   ]
  },
  {
   "cell_type": "markdown",
   "metadata": {},
   "source": [
    "Ist PyTorch erfolgreich installiert, sollte dieser Import möglich sein."
   ]
  },
  {
   "cell_type": "code",
   "execution_count": 11,
   "metadata": {},
   "outputs": [
    {
     "name": "stdout",
     "output_type": "stream",
     "text": [
      "2.1.2+cpu\n"
     ]
    }
   ],
   "source": [
    "print(torch.__version__)"
   ]
  },
  {
   "cell_type": "markdown",
   "metadata": {},
   "source": [
    "Die Beispiele wurden mit PyTorch 1.6.0 erstellt und getestet."
   ]
  },
  {
   "cell_type": "markdown",
   "metadata": {},
   "source": [
    "#### Torchvision"
   ]
  },
  {
   "cell_type": "code",
   "execution_count": 12,
   "metadata": {},
   "outputs": [],
   "source": [
    "import torchvision"
   ]
  },
  {
   "cell_type": "markdown",
   "metadata": {},
   "source": [
    "Bei der Installation von PyTorch sollte das *torchvision* Package gleich mit installiert werden."
   ]
  },
  {
   "cell_type": "code",
   "execution_count": 13,
   "metadata": {},
   "outputs": [
    {
     "name": "stdout",
     "output_type": "stream",
     "text": [
      "0.16.2+cpu\n"
     ]
    }
   ],
   "source": [
    "print(torchvision.__version__)"
   ]
  },
  {
   "cell_type": "markdown",
   "metadata": {},
   "source": [
    "Die Beispiele wurden mit torchvision 0.7.0 erstellt und getestet."
   ]
  },
  {
   "cell_type": "markdown",
   "metadata": {},
   "source": [
    "## Herzlichen Glückwunsch"
   ]
  },
  {
   "cell_type": "markdown",
   "metadata": {},
   "source": [
    "Konnten alle Code-Zellen fehlerfrei ausgeführt werden, und liegen alle Packages in mindestens der angegebenen Version vor? Dann sind sie bestens gerüstet für die folgenden Arbeiten mit Künstlichen Neuronalen Netzen.\n",
    "\n",
    "Herzlichen Glückwunsch!"
   ]
  }
 ],
 "metadata": {
  "kernelspec": {
   "display_name": "Python 3 (ipykernel)",
   "language": "python",
   "name": "python3"
  },
  "language_info": {
   "codemirror_mode": {
    "name": "ipython",
    "version": 3
   },
   "file_extension": ".py",
   "mimetype": "text/x-python",
   "name": "python",
   "nbconvert_exporter": "python",
   "pygments_lexer": "ipython3",
   "version": "3.10.11"
  }
 },
 "nbformat": 4,
 "nbformat_minor": 4
}
