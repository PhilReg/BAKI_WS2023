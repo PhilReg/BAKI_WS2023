{
 "cells": [
  {
   "cell_type": "markdown",
   "metadata": {},
   "source": [
    "# Business Analytics und Künstliche Intelligenz\n",
    "Wintersemester 2023/2024\n",
    "\n",
    "Prof. Dr. Jürgen Bock"
   ]
  },
  {
   "cell_type": "markdown",
   "metadata": {},
   "source": [
    "## Grundlagen zur Arbeit mit Python"
   ]
  },
  {
   "cell_type": "markdown",
   "metadata": {},
   "source": [
    "Dieses Notebook soll die Grundlagen zur Arbeit mit Python im Bereich Machine Learning und insb. künstlicher Neuronaler Netze schaffen. Es handelt sich *nicht* um ein allgemeines Python Tutorial. Es werden hier allerdings auch keine tiefgreifenden Python-Kenntnisse vorausgesetzt. Im Vordergrund stehen die Konzepte, die sich selbstverständlich auch in jeder anderen Programmiersprache umsetzten lassen. Python bietet allerdings den Vorteil, dass durch die relativ schlanke Syntax und die verfügbaren Bibliotheken eine prägnante und lesbare Umsetzung der Konzepte möglich ist. Außerdem hat sich Python als Quasi-Standard Programmiersprache im Bereich Machine Learning etabliert."
   ]
  },
  {
   "cell_type": "markdown",
   "metadata": {},
   "source": [
    "### Lernziele\n",
    "* Sie kennen die Möglichkeit in Python Module und Elemente daraus in Jupyter Notebooks zu importieren und sind in der Lage den Import-Mechanismus in eigenen Notebooks anzuwenden.\n",
    "* Sie können angeben welche Art von Funktionalität die *scikit-learn* Bibliothek bereitstellt, und welche Bibliothek Sie zum Plotten von Graphen verwenden können.\n",
    "* Sie können die Datenstrukturen *NumPy*-Array und *PyTorch*-Tensor erklären und sind in der Lage diese zu interpretieren.\n",
    "* Sie können den Slicing-Mechanismus für *NumPy*-Arrays und *PyTorch*-Tensoren erläutern und können Ergebnisse von Slicing-Operationen bei einfachen Beispielen voraussagen.\n",
    "* Sie können erläutern welche Möglichkeiten bestehen, *NumPy*-Arrays und *PyTorch*-Tensoren umzuformen.\n",
    "* Sie kennen die Möglichkeiten wie einfache Rechenoperationen mit *NumPy*-Arrays und *PyTorch*-Tensoren durchgeführt werden können.\n",
    "* Sie kennen verschiedene Möglichkeiten *PyTorch*-Tensoren mit Standardwerten zu erzeugen."
   ]
  },
  {
   "cell_type": "markdown",
   "metadata": {},
   "source": [
    "### Module und Packages"
   ]
  },
  {
   "cell_type": "markdown",
   "metadata": {},
   "source": [
    "Wiederverwendbare Programmbausteine lassen sich in Python in sogenannte *Module* organisieren. Mehrere zusammengehörige Module können als *Package* organisiert werden und somit umfangreiche Softwarebibliotheken realisieren.\n",
    "\n",
    "Ein Modul ist dabei als eine Python-Datei repräsentiert, die Variablen, Funktionen und Klassen enthalten kann. Ein Package besteht aus mehreren solchen Dateien. Um ein Modul oder Package zu verwenden, muss es importiert werden. Der folgende Befehl importiert beispielsweise das Modul *sys*."
   ]
  },
  {
   "cell_type": "code",
   "execution_count": null,
   "metadata": {},
   "outputs": [],
   "source": [
    "import sys"
   ]
  },
  {
   "cell_type": "markdown",
   "metadata": {},
   "source": [
    "Die Variablen und Funktionen stehen nun unter dem Namespace `sys` zur Verfügung, der, getrennt durch einen Punkt, dem zu verwendenden Modulelement vorangestellt wird, z.B.:"
   ]
  },
  {
   "cell_type": "code",
   "execution_count": null,
   "metadata": {},
   "outputs": [],
   "source": [
    "sys.version"
   ]
  },
  {
   "cell_type": "markdown",
   "metadata": {},
   "source": [
    "Der Namespace kann beim Importieren auch explizit benannt werden, was oft eine kürzere Schreibweise im Code ermöglicht:"
   ]
  },
  {
   "cell_type": "code",
   "execution_count": null,
   "metadata": {},
   "outputs": [],
   "source": [
    "import sys as s"
   ]
  },
  {
   "cell_type": "code",
   "execution_count": null,
   "metadata": {},
   "outputs": [],
   "source": [
    "s.version"
   ]
  },
  {
   "cell_type": "markdown",
   "metadata": {},
   "source": [
    "Module eines Packages lassen sich einzeln importieren."
   ]
  },
  {
   "cell_type": "code",
   "execution_count": null,
   "metadata": {},
   "outputs": [],
   "source": [
    "import sklearn.metrics"
   ]
  },
  {
   "cell_type": "markdown",
   "metadata": {},
   "source": [
    "Um nicht immer den gesamten Namespace angeben zu müssen, empfiehlt sich hier das vergeben eines lokalen Namens:"
   ]
  },
  {
   "cell_type": "code",
   "execution_count": null,
   "metadata": {},
   "outputs": [],
   "source": [
    "import sklearn.metrics as metrics"
   ]
  },
  {
   "cell_type": "markdown",
   "metadata": {},
   "source": [
    "Es lassen sich auch Module oder Elemente daraus einzeln importieren. Dazu muss angegeben werden, woher das Objekt stammt. Hier importieren wir die Funktion `load_diabetes` aus dem Modul `sklearn.datasets`."
   ]
  },
  {
   "cell_type": "code",
   "execution_count": null,
   "metadata": {},
   "outputs": [],
   "source": [
    "from sklearn.datasets import load_diabetes"
   ]
  },
  {
   "cell_type": "code",
   "execution_count": null,
   "metadata": {},
   "outputs": [],
   "source": [
    "load_diabetes()"
   ]
  },
  {
   "cell_type": "markdown",
   "metadata": {},
   "source": [
    "Es lassen sich auch mehrere Objekte einzeln importieren und optional namentlich umbenennen:"
   ]
  },
  {
   "cell_type": "code",
   "execution_count": null,
   "metadata": {},
   "outputs": [],
   "source": [
    "from sklearn.datasets import load_boston, load_diabetes as ld"
   ]
  },
  {
   "cell_type": "code",
   "execution_count": null,
   "metadata": {},
   "outputs": [],
   "source": [
    "ld()"
   ]
  },
  {
   "cell_type": "markdown",
   "metadata": {},
   "source": [
    "Selbstverständlich lassen sich auch eingene Module schreiben und importieren. Sie müssen nur im `sys.path` auffindbar sein."
   ]
  },
  {
   "cell_type": "code",
   "execution_count": null,
   "metadata": {},
   "outputs": [],
   "source": [
    "print(sys.path)"
   ]
  },
  {
   "cell_type": "markdown",
   "metadata": {},
   "source": [
    "Das aktuelle Verzeichnis ist immer im Pfad enthalten. Wenn Sie im Laufe dieser Vorlesung also Module bereitgestellt bekommen, oder selbst welche entwickeln, legen Sie diese am besten einfach im gleichen Verzeichnis wie das jeweilige Jupyter Notebook ab, um sie direkt importieren zu können."
   ]
  },
  {
   "cell_type": "markdown",
   "metadata": {},
   "source": [
    "Detaillierte Informationen zum Import-Mechanismus in Python finden Sie hier: https://docs.python.org/3/reference/import.html\n"
   ]
  },
  {
   "cell_type": "markdown",
   "metadata": {},
   "source": [
    "### Wichtige Bibliotheken"
   ]
  },
  {
   "cell_type": "markdown",
   "metadata": {},
   "source": [
    "Im Rahmen dieser Vorlesung werden wir einige Bibliotheken benutzen, die uns die Arbeit enorm erleichtern und unter anderem auch mit der Grund sind, warum wir in diesem Teil der KI gerne Python einsetzen. Die Bibliotheken stehen als Packages zur Verfügungen und die für uns relevanten Teile daraus werden jeweils über die zuvor vorgestellten Import-Mechanismen eingebunden."
   ]
  },
  {
   "cell_type": "markdown",
   "metadata": {},
   "source": [
    "#### *scikit-learn*"
   ]
  },
  {
   "cell_type": "markdown",
   "metadata": {},
   "source": [
    "\"scikit-learn is an open source machine learning library that supports supervised and unsupervised learning. It also provides various tools for model fitting, data preprocessing, model selection and evaluation, and many other utilities.\" (https://scikit-learn.org/stable/getting_started.html)"
   ]
  },
  {
   "cell_type": "markdown",
   "metadata": {},
   "source": [
    "*scikit-learn* bietet also diverse Standard-ML-ALgorithmen und insbesonere auch Datensätze sowie Funktionen zur Vorverarbeitung und Evaluation der Modelle."
   ]
  },
  {
   "cell_type": "markdown",
   "metadata": {},
   "source": [
    "**Beispiel:** Confusion Matrix"
   ]
  },
  {
   "cell_type": "code",
   "execution_count": null,
   "metadata": {},
   "outputs": [],
   "source": [
    "from sklearn.metrics import confusion_matrix"
   ]
  },
  {
   "cell_type": "markdown",
   "metadata": {},
   "source": [
    "Beispieldaten für tatsächliche Labels (`y_target`) und Vorhersagen eines Klassifikators (`y_predict`)"
   ]
  },
  {
   "cell_type": "code",
   "execution_count": null,
   "metadata": {},
   "outputs": [],
   "source": [
    "y_target = ['cat', 'dog', 'mouse', 'mouse', 'dog', 'mouse', 'cat', 'cat', 'mouse', 'dog', 'cat']\n",
    "y_predict = ['cat', 'cat', 'mouse', 'mouse', 'dog', 'mouse', 'dog', 'cat', 'cat', 'dog', 'cat']"
   ]
  },
  {
   "cell_type": "code",
   "execution_count": null,
   "metadata": {},
   "outputs": [],
   "source": [
    "type(y_target)"
   ]
  },
  {
   "cell_type": "markdown",
   "metadata": {},
   "source": [
    "*scikit-learn* bietet eine Funktion zum erstellen der Confusion Matrix"
   ]
  },
  {
   "cell_type": "code",
   "execution_count": null,
   "metadata": {},
   "outputs": [],
   "source": [
    "cm = confusion_matrix(y_target, y_predict)"
   ]
  },
  {
   "cell_type": "markdown",
   "metadata": {},
   "source": [
    "Wir können überprüfen mit welcher Art Objekt wir es zu tun haben ..."
   ]
  },
  {
   "cell_type": "code",
   "execution_count": null,
   "metadata": {},
   "outputs": [],
   "source": [
    "print(\"Type of the confusion matrix: \", type(cm))"
   ]
  },
  {
   "cell_type": "markdown",
   "metadata": {},
   "source": [
    "... oder die Größe und Dimensionalität ermitteln ..."
   ]
  },
  {
   "cell_type": "code",
   "execution_count": null,
   "metadata": {},
   "outputs": [],
   "source": [
    "print(\"Size of the confusion matrix: \", cm.size)\n",
    "print(\"Number of dimensions: \", cm.ndim)"
   ]
  },
  {
   "cell_type": "markdown",
   "metadata": {},
   "source": [
    "... oder die Confusion Matrix direkt ausgeben:"
   ]
  },
  {
   "cell_type": "code",
   "execution_count": null,
   "metadata": {},
   "outputs": [],
   "source": [
    "print(cm)"
   ]
  },
  {
   "cell_type": "markdown",
   "metadata": {},
   "source": [
    "Da die Beispieldaten 3 Klassen enthielten, ist es eine 3x3 Matrix. **Wichtig:** Die Zeilen entsprechen den tatsächlichen Labels, die Spalten den vorhergesagten. (Siehe Dokumentation: https://scikit-learn.org/stable/modules/generated/sklearn.metrics.confusion_matrix.html#sklearn.metrics.confusion_matrix)"
   ]
  },
  {
   "cell_type": "markdown",
   "metadata": {},
   "source": [
    "Weitere Informationen zu *scikit-learn* und insbesondere die API-Referenz finden Sie hier: https://scikit-learn.org/stable/modules/classes.html"
   ]
  },
  {
   "cell_type": "markdown",
   "metadata": {},
   "source": [
    "#### *NumPy*"
   ]
  },
  {
   "cell_type": "markdown",
   "metadata": {},
   "source": [
    "*NumPy* bietet Datenstrukturen und Rechenoperationen zum Umgang mit großen Datenmengen. Zentrale Datenstruktur ist das NumPy-Array. Obige Confusion Matrix ist beispielsweise vom Typ NumPy-Array. Die Datenstrukturen und Operationen sind hochoptimiert und bieten deshalb eine sehr gute Rechenperformance."
   ]
  },
  {
   "cell_type": "code",
   "execution_count": null,
   "metadata": {},
   "outputs": [],
   "source": [
    "import numpy as np"
   ]
  },
  {
   "cell_type": "code",
   "execution_count": null,
   "metadata": {},
   "outputs": [],
   "source": [
    "nparray1d = np.array([1, 2, 3, 4, 5])\n",
    "print(\"1D Array: \\n\", nparray1d)\n",
    "print(\"Size: \", nparray1d.size)\n",
    "print(\"Number of dimensions: \", nparray1d.ndim)\n",
    "print(\"Shape: \", nparray1d.shape)"
   ]
  },
  {
   "cell_type": "code",
   "execution_count": null,
   "metadata": {
    "scrolled": true
   },
   "outputs": [],
   "source": [
    "nparray2d = np.array([[11,12,13],[21,22,23]])\n",
    "print(\"2D Array: \\n\", nparray2d)\n",
    "print(\"Size: \", nparray2d.size)\n",
    "print(\"Number of dimensions: \", nparray2d.ndim)\n",
    "print(\"Shape: \", nparray2d.shape)"
   ]
  },
  {
   "cell_type": "markdown",
   "metadata": {},
   "source": [
    "Beachten Sie die Darstellungsreihenfolge der Dimensionen: Zeile vor Spalte (im Zweidimensionalen)."
   ]
  },
  {
   "cell_type": "markdown",
   "metadata": {},
   "source": [
    "**Intermezzo:** Funktionen\n",
    "\n",
    "Da wir noch mehr Arrays inspizieren wollen, lohnt sich die Auslagerung der `print` Anweisungen in eine Funktion. (\"Don't repeat yourself\" (DRY) Prinzip.)"
   ]
  },
  {
   "cell_type": "code",
   "execution_count": null,
   "metadata": {},
   "outputs": [],
   "source": [
    "def print_array(a):\n",
    "    print(\"Number of dimensions: \", a.ndim)\n",
    "    print(\"Shape: \", a.shape)\n",
    "    print(\"Size: \", a.size)\n",
    "    print(\"{}D-Array:\\n{}\".format(a.ndim, a))"
   ]
  },
  {
   "cell_type": "markdown",
   "metadata": {},
   "source": [
    "Noch ein 3-dimensionales Array. Beachten Sie die Klammerung:"
   ]
  },
  {
   "cell_type": "code",
   "execution_count": null,
   "metadata": {
    "scrolled": true
   },
   "outputs": [],
   "source": [
    "nparray3d = np.array(\n",
    "    [[[111, 112, 113, 114],\n",
    "      [121, 122, 123, 124],\n",
    "      [131, 132, 133, 134]],\n",
    "     [[211, 212, 213, 214],\n",
    "      [221, 222, 223, 224],\n",
    "      [231, 232, 233, 234]]])\n",
    "\n",
    "print_array(nparray3d)"
   ]
  },
  {
   "cell_type": "markdown",
   "metadata": {},
   "source": [
    "##### Slicing\n",
    "Slicing bedeutet, Ausschnitte aus dem Array zu extrahieren. Beachten Sie, dass Indices mit 0 beginnen!"
   ]
  },
  {
   "cell_type": "markdown",
   "metadata": {},
   "source": [
    "Im einfachsten Fall extrahieren wir ein einzelnes Element."
   ]
  },
  {
   "cell_type": "code",
   "execution_count": null,
   "metadata": {},
   "outputs": [],
   "source": [
    "print(nparray3d[0,0,0])\n",
    "print(nparray3d[1,2,2])"
   ]
  },
  {
   "cell_type": "markdown",
   "metadata": {},
   "source": [
    "Ganze Dimensionen werden mit `:` indiziert:"
   ]
  },
  {
   "cell_type": "code",
   "execution_count": null,
   "metadata": {},
   "outputs": [],
   "source": [
    "print(nparray3d[:,0,0])"
   ]
  },
  {
   "cell_type": "code",
   "execution_count": null,
   "metadata": {},
   "outputs": [],
   "source": [
    "print(nparray3d[0,:,0])"
   ]
  },
  {
   "cell_type": "code",
   "execution_count": null,
   "metadata": {},
   "outputs": [],
   "source": [
    "print(nparray3d[0,0,:])"
   ]
  },
  {
   "cell_type": "markdown",
   "metadata": {},
   "source": [
    "Mit `:` lassen sich aber auch Bereiche (einschl. Schrittgröße) extrahieren. Dabei gilt folgende Syntax:\n",
    "\n",
    "*i*:*j*:*k*\n",
    "\n",
    "wobei *i* der Startindex (inklusive), *j* der Endindex (exklusive), und *k* die Schrittgröße ist. Bei Fehlen der Schrittgröße wird Schrittgröße 1 angenommen. Bei Fehlen des Anfangs- oder Endindex wird 0 bzw. der letzte Index der jeweiligen Dimension angenommen."
   ]
  },
  {
   "cell_type": "markdown",
   "metadata": {},
   "source": [
    "In der dritten Dimension Elemente mit Index 1 und 2 (*i* = 1, *j* = 3, *k* = 1 (kann weggelassen werden))"
   ]
  },
  {
   "cell_type": "code",
   "execution_count": null,
   "metadata": {},
   "outputs": [],
   "source": [
    "print(nparray3d[0, 0, 1:3])"
   ]
  },
  {
   "cell_type": "markdown",
   "metadata": {},
   "source": [
    "In der dritten Dimension Elemente von Index 2 bis zum Ende:"
   ]
  },
  {
   "cell_type": "code",
   "execution_count": null,
   "metadata": {},
   "outputs": [],
   "source": [
    "print(nparray3d[0, 0, 2:])"
   ]
  },
  {
   "cell_type": "markdown",
   "metadata": {},
   "source": [
    "In der zweiten Dimension Elemente mit Index 0 und 2 (*i* = 0, *j* wird weggelassen, *k* = 2)"
   ]
  },
  {
   "cell_type": "code",
   "execution_count": null,
   "metadata": {},
   "outputs": [],
   "source": [
    "print(nparray3d[0, 0::2, 0])"
   ]
  },
  {
   "cell_type": "markdown",
   "metadata": {},
   "source": [
    "Anwendung auf verschiedene Dimensionen:"
   ]
  },
  {
   "cell_type": "code",
   "execution_count": null,
   "metadata": {},
   "outputs": [],
   "source": [
    "print(nparray3d[1, :, 2:])"
   ]
  },
  {
   "cell_type": "markdown",
   "metadata": {},
   "source": [
    "Detailierte Informationen zum Indexing und Slicing finden Sie hier: https://numpy.org/doc/stable/reference/arrays.indexing.html#arrays-indexing"
   ]
  },
  {
   "cell_type": "markdown",
   "metadata": {},
   "source": [
    "##### Reshaping"
   ]
  },
  {
   "cell_type": "markdown",
   "metadata": {},
   "source": [
    "Die Form eines `ndarray`s kann auf verschiedene Weise verändert werden. Die Funktion `reshape` ändert die Form und behält alle Daten. Die neue Form muss mit der alten Form, bzw. der Anzahl der Elemente kompatibel sein."
   ]
  },
  {
   "cell_type": "code",
   "execution_count": null,
   "metadata": {},
   "outputs": [],
   "source": [
    "print(\"Shape: {}:\\n{}\\n\".format(nparray2d.shape, nparray2d ))"
   ]
  },
  {
   "cell_type": "code",
   "execution_count": null,
   "metadata": {},
   "outputs": [],
   "source": [
    "print(\"Shape: (3, 2):\\n{}\\n\".format(nparray2d.reshape((3,2))))\n",
    "print(\"Shape: (6, 1):\\n{}\\n\".format(nparray2d.reshape((6,1))))\n",
    "print(\"Shape: (1, 6):\\n{}\\n\".format(nparray2d.reshape((1,6))))"
   ]
  },
  {
   "cell_type": "markdown",
   "metadata": {},
   "source": [
    "Beim Umformen kann die Länge einer Dimension unspezifiziert bleiben, da diese sich aus der Größe des Arrays und den Längen der anderen Dimensionen ergibt. Diese unspezifizierte Dimension wird mit -1 angegeben:"
   ]
  },
  {
   "cell_type": "code",
   "execution_count": null,
   "metadata": {},
   "outputs": [],
   "source": [
    "nparray2d.reshape((3,-1))"
   ]
  },
  {
   "cell_type": "markdown",
   "metadata": {},
   "source": [
    "Ist die Zielform mit der Anzahl der Elemente nicht kompatibel, wird ein Fehler ausgegeben:"
   ]
  },
  {
   "cell_type": "code",
   "execution_count": null,
   "metadata": {},
   "outputs": [],
   "source": [
    "nparray2d.reshape(4, 2)"
   ]
  },
  {
   "cell_type": "code",
   "execution_count": null,
   "metadata": {},
   "outputs": [],
   "source": [
    "nparray2d.reshape(5, -1)"
   ]
  },
  {
   "cell_type": "markdown",
   "metadata": {},
   "source": [
    "Da es häufig notwendig ist, Daten in einen eindimensionalen Vektor zu konvertieren, existieren hierfür die Funktionen `flatten` und `ravel`. `flatten` erzeugt eine Kopie des ursprünglichen `ndarray`s, `ravel` liefert nur eine Referenz/View auf das originale `ndarray` (Änderungen werden auch auf dem Originalobjekt durchgeführt.)"
   ]
  },
  {
   "cell_type": "code",
   "execution_count": null,
   "metadata": {},
   "outputs": [],
   "source": [
    "b1 = np.array([[1, 2, 3], [4, 5, 6]])\n",
    "b2 = np.array([[1, 2, 3], [4, 5, 6]])\n",
    "\n",
    "print(\"b1:\\n{}\\nb2:\\n{}\\n\".format(b1, b2))"
   ]
  },
  {
   "cell_type": "code",
   "execution_count": null,
   "metadata": {},
   "outputs": [],
   "source": [
    "b1_flattened = b1.flatten()\n",
    "b2_raveled = b2.ravel()\n",
    "\n",
    "print(\"b1_flattened:\\n{}\\nb2_raveled:\\n{}\\n\".format(b1_flattened, b2_raveled))"
   ]
  },
  {
   "cell_type": "code",
   "execution_count": null,
   "metadata": {},
   "outputs": [],
   "source": [
    "b1_flattened[0] = 0\n",
    "b2_raveled[0] = 0\n",
    "\n",
    "print(\"b1_flattened (changed):\\n{}\\nb2_raveled (changed):\\n{}\\n\".format(b1_flattened, b2_raveled))\n",
    "\n",
    "print(\"b1:\\n{}\\nb2:\\n{}\".format(b1, b2))"
   ]
  },
  {
   "cell_type": "markdown",
   "metadata": {},
   "source": [
    "`resize` ändert die Form (*in place*, also das Array selbst wird verändert), unabhängig davon, ob Daten verloren gehen. Sofern irgendwelche Abhängigkeiten von dem `ndarray` bestehen, gibt es einen Fehler, außer diese Abhängigkeiten werden ignoriert (`refcheck=False`)"
   ]
  },
  {
   "cell_type": "code",
   "execution_count": null,
   "metadata": {},
   "outputs": [],
   "source": [
    "b1.resize((2,2))\n",
    "print(b1, \"\\n\")"
   ]
  },
  {
   "cell_type": "code",
   "execution_count": null,
   "metadata": {},
   "outputs": [],
   "source": [
    "b2.resize((2,2), refcheck=True)  # refcheck=True ist der Default\n",
    "print(b2, \"\\n\")"
   ]
  },
  {
   "cell_type": "code",
   "execution_count": null,
   "metadata": {},
   "outputs": [],
   "source": [
    "b1.resize((3,3))\n",
    "print(b1)"
   ]
  },
  {
   "cell_type": "code",
   "execution_count": null,
   "metadata": {},
   "outputs": [],
   "source": [
    "b1.resize((2,3,3))\n",
    "print(b1)"
   ]
  },
  {
   "cell_type": "markdown",
   "metadata": {},
   "source": [
    "##### Einfache Operationen"
   ]
  },
  {
   "cell_type": "markdown",
   "metadata": {},
   "source": [
    "Grundrechenarten auf `ndarray`s. Die Standardoperatoren arbeiten elementweise auf `ndarray`s."
   ]
  },
  {
   "cell_type": "code",
   "execution_count": null,
   "metadata": {},
   "outputs": [],
   "source": [
    "a1 = np.array([[1, 1], [1, 1]])\n",
    "a2 = np.array([[2, 2], [2, 2]])\n",
    "a3a = a1 + a2\n",
    "print(a1)\n",
    "print(a2)\n",
    "print(a3a)"
   ]
  },
  {
   "cell_type": "markdown",
   "metadata": {},
   "source": [
    "Auch über Funktionen von `ndarray` zu bewerkstelligen."
   ]
  },
  {
   "cell_type": "code",
   "execution_count": null,
   "metadata": {},
   "outputs": [],
   "source": [
    "a3b = a1.__add__(a2)\n",
    "print(a3b)"
   ]
  },
  {
   "cell_type": "markdown",
   "metadata": {},
   "source": [
    "Operationen können auch *in place* durchgeführt werden, d.h. sie ändern das `ndarray` selbst:"
   ]
  },
  {
   "cell_type": "code",
   "execution_count": null,
   "metadata": {},
   "outputs": [],
   "source": [
    "a1.__iadd__(a2)\n",
    "print(a1)"
   ]
  },
  {
   "cell_type": "markdown",
   "metadata": {},
   "source": [
    "Operationen (auch *in place* Operationen) lassen sich mit Indexing/Slicing kombinieren:"
   ]
  },
  {
   "cell_type": "code",
   "execution_count": null,
   "metadata": {},
   "outputs": [],
   "source": [
    "a2[:, 0].__iadd__(np.array([1, 1]))\n",
    "print(a2)\n",
    "a2[1, :].__iadd__(np.array([1, 1]))\n",
    "print(a2)"
   ]
  },
  {
   "cell_type": "markdown",
   "metadata": {},
   "source": [
    "Die *NumPy* API Referenz finden Sie hier: https://numpy.org/doc/stable/reference/index.html"
   ]
  },
  {
   "cell_type": "markdown",
   "metadata": {},
   "source": [
    "#### *matplotlib*"
   ]
  },
  {
   "cell_type": "markdown",
   "metadata": {},
   "source": [
    "Diese Bibliothek benötigen wir zum Plotten von Graphen und Daten, und dabei insbesondere das Modul `pyplot`."
   ]
  },
  {
   "cell_type": "code",
   "execution_count": null,
   "metadata": {},
   "outputs": [],
   "source": [
    "import matplotlib.pyplot as plt"
   ]
  },
  {
   "cell_type": "markdown",
   "metadata": {},
   "source": [
    "Den folgenden Befehl benötigen wir in Jupyter Notebooks, wenn wir wollen, dass die Plots direkt im Notebook ausgegeben werden, anstatt in einem eigenen Fenster:"
   ]
  },
  {
   "cell_type": "code",
   "execution_count": null,
   "metadata": {},
   "outputs": [],
   "source": [
    "%matplotlib inline"
   ]
  },
  {
   "cell_type": "markdown",
   "metadata": {},
   "source": [
    "*matplotlib* ist sehr mächtig, und wir werden uns nicht im Detail damit beschäftigen.\n",
    "\n",
    "Hier ein Beispiel für einen einfachen zufälligen Scatter-Plot. (Sie sehen hier übrigens auch, wie man über *NumPy* Zufallsarrays generiert. Das *random*-Modul bietet hier noch viel mehr.)"
   ]
  },
  {
   "cell_type": "code",
   "execution_count": null,
   "metadata": {},
   "outputs": [],
   "source": [
    "N = 50\n",
    "x = np.random.randn(N)\n",
    "y = np.random.randn(N)\n",
    "color = np.random.choice([\"red\", \"blue\", \"green\"], N)\n",
    "plt.scatter(x, y, color=color)\n",
    "plt.show()"
   ]
  },
  {
   "cell_type": "markdown",
   "metadata": {},
   "source": [
    "Details zur `matplotlib.pyplot` API finden Sie hier: https://matplotlib.org/api/pyplot_api.html"
   ]
  },
  {
   "cell_type": "markdown",
   "metadata": {},
   "source": [
    "#### *PyTorch*"
   ]
  },
  {
   "cell_type": "markdown",
   "metadata": {},
   "source": [
    "*PyTorch* ist eine open source Bibliothek die wir für die Arbeit mit neuronalen Netzen verwenden. Sie entstammt dem Facebook AI Research Lab und zeichnet sich durch eine hohe Anwenderfreundlichkeit aus (Anwender sind in diesem Fall wir, die Programmierer.)\n",
    "\n",
    "Die API ist so gestaltet, dass sich Architekturen von neuronalen Netzen einfach und übersichtlich definieren lassen. *PyTorch* lässt sich sehr einfach auf GPUs ausführen, was die Nutzung von massiv parallelen Berechnungen ermöglicht.\n",
    "Des Weiteren bietet es einen umfangreichen Mechanismus zum automatischen Differenzieren, was zur Gradientenberechnung und damit zum Update der Modellparameter im Backpropagation-Algorithmus wichtig ist. Intern werden neuronale Netze als Berechnungsgraphen repräsentiert."
   ]
  },
  {
   "cell_type": "code",
   "execution_count": null,
   "metadata": {},
   "outputs": [],
   "source": [
    "import torch"
   ]
  },
  {
   "cell_type": "markdown",
   "metadata": {},
   "source": [
    "##### Tensoren"
   ]
  },
  {
   "cell_type": "markdown",
   "metadata": {},
   "source": [
    "Die grundlegende Datenstruktur in *PyTorch* ist ein Tensor. *PyTorch*-Tensoren sind wie *NumPy*-Arrays als mehrdimensionale Arrays zu verstehen, bieten allerdings noch einige weitere Dinge für die Berechnung in neuronalen Netzen.\n",
    "\n",
    "Der Umgang mit Tensoren ist ähnlich zum Umgang mit *NumPy*-Arrays. Da wir uns im weiteren Verlauf aber hauptsächlich mit Tensoren beschäftigen werden, sollten wir uns trotzdem grundlegend damit vertraut machen."
   ]
  },
  {
   "cell_type": "markdown",
   "metadata": {},
   "source": [
    "Mittels `torch.tensor()` lassen sich Tensoren mit beliebigen (numerischen oder boolschen) Daten erzeugen. Beachten Sie die Datentypen. Alle Daten in einem Tensor sind vom gleichen Typ. Diese lassen sich über das `dtype` Attribut erfragen, oder bei der Erzeugung über den `dtype` Parameter explizit setzen."
   ]
  },
  {
   "cell_type": "code",
   "execution_count": null,
   "metadata": {},
   "outputs": [],
   "source": [
    "t1 = torch.tensor([[1, 2],[3, 4]])\n",
    "t2 = torch.tensor([[1., 2.], [3., 4.]])\n",
    "print(t1)\n",
    "print(t1.dtype, \"\\n\")\n",
    "print(t2)\n",
    "print(t2.dtype)"
   ]
  },
  {
   "cell_type": "markdown",
   "metadata": {},
   "source": [
    "Bestimmte Tensoren lassen sich über explizite Methoden erzeugen:"
   ]
  },
  {
   "cell_type": "code",
   "execution_count": null,
   "metadata": {},
   "outputs": [],
   "source": [
    "t3 = torch.zeros((3,3))\n",
    "print(t3)\n",
    "print(t3.dtype)"
   ]
  },
  {
   "cell_type": "code",
   "execution_count": null,
   "metadata": {},
   "outputs": [],
   "source": [
    "t4 = torch.zeros((3,3), dtype=torch.int32)\n",
    "print(t4)\n",
    "print(t4.dtype)"
   ]
  },
  {
   "cell_type": "code",
   "execution_count": null,
   "metadata": {},
   "outputs": [],
   "source": [
    "t5 = torch.ones((2,2))\n",
    "print(t5)"
   ]
  },
  {
   "cell_type": "markdown",
   "metadata": {},
   "source": [
    "Unter anderem sind auch Initialisierungen mit Zufallsdaten (entsprechend einer gegebenen Verteilung) möglich. Hier normalverteilte Zufallsdaten:"
   ]
  },
  {
   "cell_type": "code",
   "execution_count": null,
   "metadata": {},
   "outputs": [],
   "source": [
    "t6 = torch.randn((500,500))\n",
    "print(t6)"
   ]
  },
  {
   "cell_type": "markdown",
   "metadata": {},
   "source": [
    "Die `arange()` Funktion ist ebenfalls hilfreich zum erzeugen von eindimensionalen Tensoren. Dabei wird ein Endwert und optional Startwert, Schrittweite und Datentyp angegeben:"
   ]
  },
  {
   "cell_type": "code",
   "execution_count": null,
   "metadata": {},
   "outputs": [],
   "source": [
    "print(torch.arange(10))\n",
    "print(torch.arange(4, 8))\n",
    "print(torch.arange(2, 8, .2))\n",
    "print(torch.arange(1, 5, dtype=torch.float32))"
   ]
  },
  {
   "cell_type": "markdown",
   "metadata": {},
   "source": [
    "Reshape und Slicing sind ebenfalls möglich:"
   ]
  },
  {
   "cell_type": "code",
   "execution_count": null,
   "metadata": {},
   "outputs": [],
   "source": [
    "t7 = torch.arange(4*4*4).reshape((4,4,4))\n",
    "print(t7)"
   ]
  },
  {
   "cell_type": "markdown",
   "metadata": {},
   "source": [
    "Den Rand dieses \"Würfels\" abschneiden:"
   ]
  },
  {
   "cell_type": "code",
   "execution_count": null,
   "metadata": {},
   "outputs": [],
   "source": [
    "print(t7[1:3, 1:3, 1:3])"
   ]
  },
  {
   "cell_type": "markdown",
   "metadata": {},
   "source": [
    "Negative Indizes zählen von hinten her:"
   ]
  },
  {
   "cell_type": "code",
   "execution_count": null,
   "metadata": {},
   "outputs": [],
   "source": [
    "print(t7[1:-1, 1:-1, 1:-1])"
   ]
  },
  {
   "cell_type": "markdown",
   "metadata": {},
   "source": [
    "Beispiel für die Verwendung der Schrittweite:"
   ]
  },
  {
   "cell_type": "code",
   "execution_count": null,
   "metadata": {},
   "outputs": [],
   "source": [
    "t8 = torch.arange(20)\n",
    "print(t8)\n",
    "print(t8[::2])"
   ]
  },
  {
   "cell_type": "markdown",
   "metadata": {},
   "source": [
    "Weitere Beispiele zum Reshaping: `reshape()` liefert, wenn möglich, einen View auf das ursprüngliche Objekt. Entsprechend werden Änderungen auf das ursprüngliche Objekt übertragen. (Ist dies nicht möglich, wird eine Kopie erstellt.)"
   ]
  },
  {
   "cell_type": "code",
   "execution_count": null,
   "metadata": {
    "scrolled": true
   },
   "outputs": [],
   "source": [
    "q1 = torch.tensor([[1, 2, 3], [4, 5, 6]])\n",
    "print(q1)\n",
    "\n",
    "q1r = q1.reshape((3, 2))\n",
    "print(q1r)\n",
    "\n",
    "q1r[0, 0] = 0\n",
    "print(q1r)\n",
    "\n",
    "print(q1)"
   ]
  },
  {
   "cell_type": "markdown",
   "metadata": {},
   "source": [
    "`view` erstellt immer eine View auf das ursprüngliche Objekt:"
   ]
  },
  {
   "cell_type": "code",
   "execution_count": null,
   "metadata": {},
   "outputs": [],
   "source": [
    "q1v = q1.view((6, 1))\n",
    "print(q1v)"
   ]
  },
  {
   "cell_type": "markdown",
   "metadata": {},
   "source": [
    "Die angegebene Form muss zur Größe des ursprünglichen Tensors passen. Wird für eine Dimension `-1` angegeben, wird der Wert automatisch ermittelt."
   ]
  },
  {
   "cell_type": "code",
   "execution_count": null,
   "metadata": {},
   "outputs": [],
   "source": [
    "print(q1.view(-1,2))\n",
    "print(q1.view(-1,6))"
   ]
  },
  {
   "cell_type": "markdown",
   "metadata": {},
   "source": [
    "Rechnen mit Tensoren ist über die Standard-Arithmetik-Operatoren möglich:"
   ]
  },
  {
   "cell_type": "code",
   "execution_count": null,
   "metadata": {},
   "outputs": [],
   "source": [
    "print(torch.ones((4,4,4))+torch.ones((4,4,4)))"
   ]
  },
  {
   "cell_type": "markdown",
   "metadata": {},
   "source": [
    "Daneben gibt es eine Vielzahl von Funktionen, z.B. Sinus."
   ]
  },
  {
   "cell_type": "code",
   "execution_count": null,
   "metadata": {},
   "outputs": [],
   "source": [
    "x = torch.arange(0, 10, 0.1, dtype=torch.float32)\n",
    "y = torch.sin(x)\n",
    "\n",
    "print(x)\n",
    "print(y)\n",
    "\n",
    "plt.scatter(x, y)\n",
    "plt.show()"
   ]
  },
  {
   "cell_type": "markdown",
   "metadata": {},
   "source": [
    "Die *in place* Variante der meisten Funktionen wird mit einem abschließenden `_` bezeichnet."
   ]
  },
  {
   "cell_type": "code",
   "execution_count": null,
   "metadata": {},
   "outputs": [],
   "source": [
    "print(x)\n",
    "x.sin_()\n",
    "print(x)"
   ]
  },
  {
   "cell_type": "markdown",
   "metadata": {},
   "source": [
    "Die weiteren Bestandteile der PyTorch API zur Definition und zum Lernen von neuronalen Netzen werden wir uns in den nächsten Vorlesungseinheiten genauer ansehen."
   ]
  },
  {
   "cell_type": "markdown",
   "metadata": {},
   "source": [
    "Bitte beachten Sie die ausführliche PyTorch API Dokumentation hier: https://pytorch.org/docs/stable/"
   ]
  }
 ],
 "metadata": {
  "kernelspec": {
   "display_name": "Python 3 (ipykernel)",
   "language": "python",
   "name": "python3"
  },
  "language_info": {
   "codemirror_mode": {
    "name": "ipython",
    "version": 3
   },
   "file_extension": ".py",
   "mimetype": "text/x-python",
   "name": "python",
   "nbconvert_exporter": "python",
   "pygments_lexer": "ipython3",
   "version": "3.8.12"
  }
 },
 "nbformat": 4,
 "nbformat_minor": 4
}
