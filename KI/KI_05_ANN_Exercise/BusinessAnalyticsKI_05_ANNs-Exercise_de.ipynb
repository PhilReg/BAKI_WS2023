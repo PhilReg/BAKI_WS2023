{
 "cells": [
  {
   "cell_type": "markdown",
   "metadata": {},
   "source": [
    "# Business Analytics und Künstliche Intelligenz\n",
    "Wintersemester 2023/2024\n",
    "\n",
    "Prof. Dr. Jürgen Bock"
   ]
  },
  {
   "cell_type": "markdown",
   "metadata": {},
   "source": [
    "## Übungen zu den Grundlagen künstlicher Neuronaler Netze in PyTorch"
   ]
  },
  {
   "cell_type": "markdown",
   "metadata": {},
   "source": [
    "Dieses Notebook bietet Übungsaufgaben zum grundlegenden Umgang mit künstlichen Neuronalen Netzen in *PyTorch*. Die einzelnen Aufgaben sind in Markdown-Zellen beschrieben. Fügen Sie Ihre Lösung in die jeweils nachfolgende Code-Zelle ein und fügen Sie bei Bedarf gerne weitere Code-Zellen hinzu."
   ]
  },
  {
   "cell_type": "markdown",
   "metadata": {},
   "source": [
    "### Lernziele\n",
    "* Sie sind in der Lage einfache künstliche Neuronen zu implementieren und die Einflüsse der einzelnen Komponenten zu untersuchen.\n",
    "* Sie sind in der Lage strukturierte Datensätze zur Verwendung in *PyTorch* vorzubereiten und einfache mehrschichtige künstliche neuronale Netze zu strukturieren.\n",
    "* Sie sind in der Lage eigene neuronale Netzstrukturen in einen generischen Lernalgorithmus einzuordnen und mit verschiedenen Datensätzen zu trainieren.\n",
    "* Sie sind in der Lage den Einfluss verschiedener Hyperparameter auf den Lernprozess und Qualität des gelernten Modells bei künstlichen neuronalen Netzen zu untersuchen und zu diskutieren."
   ]
  },
  {
   "cell_type": "markdown",
   "metadata": {},
   "source": [
    "### Einfache Neuronen"
   ]
  },
  {
   "cell_type": "markdown",
   "metadata": {},
   "source": [
    "Betrachten Sie die Bool'sche Funktion *NAND*.\n",
    "\n",
    "Die Wahrheitstafel für NAND ist wie folgt:\n",
    "\n",
    "| NAND | 0 | 1 |\n",
    "|-----|---|---| \n",
    "| **0**   | 1 | 1 |\n",
    "| **1**   | 1 | 0 |"
   ]
  },
  {
   "cell_type": "markdown",
   "metadata": {},
   "source": [
    "Warum ist diese Funktion durch ein einzelnes Neuron berechenbar?"
   ]
  },
  {
   "cell_type": "markdown",
   "metadata": {},
   "source": [
    "*Antwort:*"
   ]
  },
  {
   "cell_type": "markdown",
   "metadata": {},
   "source": [
    "Überlegen Sie sich wie dieses eine Neuron konfiguriert sein müsste. (Eingänge, Gewichte)"
   ]
  },
  {
   "cell_type": "markdown",
   "metadata": {},
   "source": [
    "*Antwort:*"
   ]
  },
  {
   "cell_type": "markdown",
   "metadata": {},
   "source": [
    "Implementieren Sie die Berechnung in Python und testen Sie Ihre Lösung."
   ]
  },
  {
   "cell_type": "code",
   "execution_count": null,
   "metadata": {},
   "outputs": [],
   "source": []
  },
  {
   "cell_type": "markdown",
   "metadata": {},
   "source": [
    "### Mehrschichtige neuronale Netze"
   ]
  },
  {
   "cell_type": "markdown",
   "metadata": {},
   "source": [
    "#### Synthetische Daten"
   ]
  },
  {
   "cell_type": "markdown",
   "metadata": {},
   "source": [
    "Betrachten Sie den folgenden (synthetischen) Datensatz mit zwei Merkmalen und zwei Klassen:"
   ]
  },
  {
   "cell_type": "code",
   "execution_count": null,
   "metadata": {},
   "outputs": [],
   "source": [
    "from sklearn import datasets\n",
    "\n",
    "data = datasets.make_circles(\n",
    "    n_samples = 10000,\n",
    "    noise = 0.1,\n",
    "    factor = 0.5 )"
   ]
  },
  {
   "cell_type": "markdown",
   "metadata": {},
   "source": [
    "Machen Sie sich mit dem Datensatz vertraut indem Sie einen Scatter-Plot erstellen."
   ]
  },
  {
   "cell_type": "code",
   "execution_count": null,
   "metadata": {},
   "outputs": [],
   "source": [
    "import matplotlib.pyplot as plt\n",
    "%matplotlib inline"
   ]
  },
  {
   "cell_type": "code",
   "execution_count": null,
   "metadata": {},
   "outputs": [],
   "source": [
    "X, t = data\n",
    "plt.scatter(X[:,0], X[:,1], c=t, s=1)\n",
    "plt.show()"
   ]
  },
  {
   "cell_type": "markdown",
   "metadata": {},
   "source": [
    "Definieren Sie ein mehrschichtiges neuronales Netz mittels *PyTorch*, und implementieren Sie eine Trainingsroutine."
   ]
  },
  {
   "cell_type": "code",
   "execution_count": null,
   "metadata": {},
   "outputs": [],
   "source": []
  },
  {
   "cell_type": "markdown",
   "metadata": {},
   "source": [
    "Stellen Sie sicher, dass das Modul ``dataview`` im aktuellen Verzeichnis liegt (oder in ``sys.path``). Verwenden Sie die Funktion ``dataview.plot_decision_boundary2d(model, X, y)`` um die *decision boundary* darzustellen."
   ]
  },
  {
   "cell_type": "code",
   "execution_count": null,
   "metadata": {},
   "outputs": [],
   "source": []
  },
  {
   "cell_type": "markdown",
   "metadata": {},
   "source": [
    "Experimentieren Sie mit den sogenannten *Hyperparametern*: Verändern Sie Anzahl und Breite der Layer, verändern Sie Anzahl der Epochen und die *batch size*. Konsultieren Sie die *PyTorch* API Dokumentation und experimentieren Sie mit verschiedenen Aktivierungsfunktionen und Optimierern.\n",
    "\n",
    "**Beachten Sie:** Nach Veränderung des Modells muss die Objektinstanz des Modells neu instanziiert werden (z.B. ``model = Net()``). Außerdem muss der Optimierer und etwaige Hilfsvariablen, wie z.B. eine ``loss_history`` o.ä., neu initialisiert werden."
   ]
  },
  {
   "cell_type": "markdown",
   "metadata": {},
   "source": [
    "Welche Erkenntnisse haben Sie erlangt?"
   ]
  },
  {
   "cell_type": "markdown",
   "metadata": {},
   "source": [
    "*Antwort:*"
   ]
  },
  {
   "cell_type": "code",
   "execution_count": null,
   "metadata": {},
   "outputs": [],
   "source": []
  },
  {
   "cell_type": "markdown",
   "metadata": {},
   "source": [
    "#### Reale Daten"
   ]
  },
  {
   "cell_type": "markdown",
   "metadata": {},
   "source": [
    "Verwenden Sie ``scikit-learn`` um den *Breast Cancer Wisconsin* Datensatz zu laden. Siehe: https://scikit-learn.org/stable/modules/generated/sklearn.datasets.load_breast_cancer.html"
   ]
  },
  {
   "cell_type": "code",
   "execution_count": null,
   "metadata": {},
   "outputs": [],
   "source": []
  },
  {
   "cell_type": "markdown",
   "metadata": {},
   "source": [
    "Machen Sie sich mit der Funktion ``train_test_split`` aus dem Modul ``sklearn.model_selection`` vertraut. Verwenden Sie diese Funktion um den Datensatz in eine Trainings- und eine Testmenge aufzuteilen."
   ]
  },
  {
   "cell_type": "code",
   "execution_count": null,
   "metadata": {},
   "outputs": [],
   "source": []
  },
  {
   "cell_type": "markdown",
   "metadata": {},
   "source": [
    "Definieren Sie ein neuronales Netz und verwenden Sie den Trainingsdatensatz um es zu trainieren. Beachten Sie bei der neuronalen Netzstruktur die Größe des Eingabe- und Ausgabevektors."
   ]
  },
  {
   "cell_type": "code",
   "execution_count": null,
   "metadata": {},
   "outputs": [],
   "source": []
  },
  {
   "cell_type": "markdown",
   "metadata": {},
   "source": [
    "Verwenden Sie ``scikit-learn`` um einen *classification report* zu erstellen, anhand dessen Sie ihr Modell bewerten können.\n",
    "\n",
    "Berechnen Sie dazu zuerst den Ausgangsvektor ihres neuronalen Netzes für die Eingabevektoren des Testdatensatzes. \n",
    "\n",
    "**Hinweis:** ``torch.from_numpy`` erstellt einen Tensor aus einem *NumPy*-Array, in dem der Testdatensatz vorliegt. Zudem müssen Sie den Eingabevektor in einen ``FloatTensor`` konvertieren.\n",
    "\n",
    "Für den *classification report* müssen Sie außerdem die Fließkommazahlen des Ausgangsvektors (resultierend aus der ``sigmoid`` Aktivierungsfunktion) in einen ganzzahlige Werte umwandeln."
   ]
  },
  {
   "cell_type": "code",
   "execution_count": null,
   "metadata": {},
   "outputs": [],
   "source": []
  }
 ],
 "metadata": {
  "kernelspec": {
   "display_name": "Python 3 (ipykernel)",
   "language": "python",
   "name": "python3"
  },
  "language_info": {
   "codemirror_mode": {
    "name": "ipython",
    "version": 3
   },
   "file_extension": ".py",
   "mimetype": "text/x-python",
   "name": "python",
   "nbconvert_exporter": "python",
   "pygments_lexer": "ipython3",
   "version": "3.8.12"
  }
 },
 "nbformat": 4,
 "nbformat_minor": 4
}
