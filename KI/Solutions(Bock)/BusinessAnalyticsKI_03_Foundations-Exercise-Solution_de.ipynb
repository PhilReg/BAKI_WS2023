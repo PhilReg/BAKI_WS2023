{
 "cells": [
  {
   "cell_type": "markdown",
   "metadata": {},
   "source": [
    "# Business Analytics und Künstliche Intelligenz\n",
    "Wintersemester 2023/2024\n",
    "\n",
    "Prof. Dr. Jürgen Bock"
   ]
  },
  {
   "cell_type": "markdown",
   "metadata": {},
   "source": [
    "## Übungen zur Arbeit mit Python und den relevanten Bibliotheken"
   ]
  },
  {
   "cell_type": "markdown",
   "metadata": {},
   "source": [
    "Dieses Notebook bietet Übungsaufgaben zum Umgang mit Python und den in dieser Vorlesung wichtigen Bibliotheken. Die einzelnen Aufgaben sind in Markdown-Zellen beschrieben. Fügen Sie Ihre Lösung in die jeweils nachfolgende Code-Zelle ein und fügen Sie bei Bedarf gerne weitere Code-Zellen hinzu."
   ]
  },
  {
   "cell_type": "markdown",
   "metadata": {},
   "source": [
    "### Lernziele\n",
    "* Sie sind in der Lage Python-Module zu importieren und zu verwenden.\n",
    "* Sie erkunden die Python-Dokumentation bestimmter Module und sind in der Lage die dort beschriebenen Funktionalitäten anzuwenden.\n",
    "* Sie können wichtige Evaluationsmetriken für Klassifikatoren beschreiben und sind in der Lage deren Aussagekraft zu beurteilen.\n",
    "* Sie sind in der Lage Rechen- und Umform-Operationenen auf *PyTorch*-Tensoren anzuwenden."
   ]
  },
  {
   "cell_type": "markdown",
   "metadata": {},
   "source": [
    "### *scikit-learn*"
   ]
  },
  {
   "cell_type": "markdown",
   "metadata": {},
   "source": [
    "#### Klassifikator-Evaluation"
   ]
  },
  {
   "cell_type": "markdown",
   "metadata": {},
   "source": [
    "Stellen Sie sich folgendes Anwendungsbeispiel vor:\n",
    "\n",
    "Ein Automobilhersteller produziert in einer Fertigungslinie von Kunden individuell konfigurierte Fahrzeuge. Der Kunde kann dabei unter anderem eine Bereifung wählen. Im Rahmen einer automatischen Endkontrolle soll überprüft werden, ob an einem Fahrzeug der richtige Reifentyp montiert ist. Ein kamerabasiertes Inspektionssystem nimmt dabei ein Bild des Reifens auf und klassifiziert das Bild in eine den Auswahlmöglichkeiten entsprechende Klasse und vergleicht das Ergebnis mit dem erwarteten (bestellten) Reifentyp.\n",
    "\n",
    "Um das System zu evaluieren, soll eine Testreihe von tatsächlichen Bestellungen mit den durch das Inspektionssystem erkannten Reifentypen verglichen werden.\n",
    "\n",
    "Die Testreihe besteht aus folgenden tatsächlichen Bestellungen `y_test` und durch den Klassifikator erkannten Typen `y_predict`:"
   ]
  },
  {
   "cell_type": "code",
   "execution_count": null,
   "metadata": {},
   "outputs": [],
   "source": [
    "import numpy as np\n",
    "\n",
    "#classes = [\"205/55 R16 91V\", \"195/65 R16 92H\", \"205/55 R16 94H\", \"225/55 R16 99V\",\n",
    "#           \"255/45 R20 105V\", \"195/45 R16 84H\" ]\n",
    "#np.random.choice(classes, 30)\n",
    "\n",
    "y_test = ['205/55 R16 91V', '225/55 R16 99V', '205/55 R16 94H', \n",
    "          '195/45 R16 84H', '255/45 R20 105V', '255/45 R20 105V',\n",
    "          '195/65 R16 92H', '255/45 R20 105V', '225/55 R16 99V',\n",
    "          '195/45 R16 84H', '205/55 R16 91V', '225/55 R16 99V',\n",
    "          '255/45 R20 105V', '225/55 R16 99V', '205/55 R16 91V',\n",
    "          '225/55 R16 99V', '255/45 R20 105V', '195/65 R16 92H',\n",
    "          '255/45 R20 105V', '205/55 R16 94H', '255/45 R20 105V',\n",
    "          '205/55 R16 91V', '205/55 R16 91V', '205/55 R16 91V',\n",
    "          '225/55 R16 99V', '205/55 R16 94H', '225/55 R16 99V',\n",
    "          '205/55 R16 94H', '205/55 R16 94H', '205/55 R16 94H']\n",
    "\n",
    "y_predict = ['205/55 R16 91V', '255/45 R20 105V', '205/55 R16 91V',\n",
    "             '195/45 R16 84H', '255/45 R20 105V', '255/45 R20 105V',\n",
    "             '195/65 R16 92H', '255/45 R20 105V', '225/55 R16 99V',\n",
    "             '195/45 R16 84H', '205/55 R16 91V', '225/55 R16 99V',\n",
    "             '255/45 R20 105V', '225/55 R16 99V', '205/55 R16 91V',\n",
    "             '225/55 R16 99V', '255/45 R20 105V', '195/45 R16 84H',\n",
    "             '255/45 R20 105V', '205/55 R16 91V', '255/45 R20 105V',\n",
    "             '205/55 R16 91V', '255/45 R20 105V', '205/55 R16 91V',\n",
    "             '225/55 R16 99V', '205/55 R16 94H', '225/55 R16 99V',\n",
    "             '195/45 R16 84H', '205/55 R16 94H', '205/55 R16 94H']"
   ]
  },
  {
   "cell_type": "markdown",
   "metadata": {},
   "source": [
    "Verwenden Sie *scikit-learn* um precision, recall, f1-score und accuracy des Klassifikators zu ermitteln. Warum ist hier eine Durchschnittsberechnung notwendig? Was sagen uns diese Metriken?"
   ]
  },
  {
   "cell_type": "code",
   "execution_count": null,
   "metadata": {},
   "outputs": [],
   "source": [
    "from sklearn import metrics\n",
    "\n",
    "print(\"Precision: \", metrics.precision_score(y_test, y_predict, average=\"macro\"))\n",
    "print(\"Recall: \", metrics.recall_score(y_test, y_predict, average=\"macro\"))\n",
    "print(\"Accuracy: \", metrics.accuracy_score(y_test, y_predict))\n",
    "print(\"F1-Score: \", metrics.f1_score(y_test, y_predict, average=\"macro\"))\n"
   ]
  },
  {
   "cell_type": "markdown",
   "metadata": {},
   "source": [
    "Was sagen uns diese Metriken?"
   ]
  },
  {
   "cell_type": "markdown",
   "metadata": {},
   "source": [
    "*Antwort:* Precision: $\\frac{TP}{TP + FP}$. Wieviele von den als positiv klassifizierte Beispiele sind tatsächlich positiv. Es fehlt eine Aussage darüber, wieviele der nicht als richtig erkannten Klassen richtig gewesen wären."
   ]
  },
  {
   "cell_type": "markdown",
   "metadata": {},
   "source": [
    "*Antwort:* Recall: $\\frac{TP}{TP+FN}$ Wieviele der tatsächlich als positiv gelabelten Beispiele wurden vom Klassifizierer gefunden."
   ]
  },
  {
   "cell_type": "markdown",
   "metadata": {},
   "source": [
    "*Antwort:* F1-Score ist der harmonische Mittelwert aus Precision und Recall: $2 * \\frac{precision * recall}{precision + recall}$"
   ]
  },
  {
   "cell_type": "markdown",
   "metadata": {},
   "source": [
    "*Antwort:* Accuracy: $\\frac{TP+TN}{TP+TN+FP+FN}$. Welcher Anteil aller Klassifikationsergebnisse wurde richtig klassifiziert."
   ]
  },
  {
   "cell_type": "markdown",
   "metadata": {},
   "source": [
    "Warum ist hier eine Durchschnittsberechnung notwendig?"
   ]
  },
  {
   "cell_type": "markdown",
   "metadata": {},
   "source": [
    "*Antwort:* *positiv* und *negativ* beziehen sich in den Metriken lediglich auf eine Klasse (enthalten oder nicht enthalten). In einem Multiklassifikationsproblem ist die Frage, wie die unterschiedlichen Precision und Recall Werte der einzelnen Klassen zu einem einzelnen Wert zusammengeführt werden. Dabei gibt es zwei Arten der Durchschnittsbildung: Micro und Macro. Micro bezieht alle TP, FP und FN in die Berechnung mit ein. Macro berechnet die Werte für alle Klassen separat und liefert den Mittelwert. Sind die Klassen stark unbalanciert ist der Marko-Wert schlechter von der Aussagekraft. Der Micro-Wert liefert allerdings keine differenzierte Aussage, da im Multiklassifikationsbeispiel Precision, Recall (somit auch F1-Score) und Accuracy gleichen."
   ]
  },
  {
   "cell_type": "markdown",
   "metadata": {},
   "source": [
    "Erstellen sie mittels *scikit-learn* einen *classification report*."
   ]
  },
  {
   "cell_type": "code",
   "execution_count": null,
   "metadata": {},
   "outputs": [],
   "source": [
    "print(metrics.classification_report(y_test, y_predict))"
   ]
  },
  {
   "cell_type": "markdown",
   "metadata": {},
   "source": [
    "Welche der Metriken dürfte für den Automobilhersteller besonders interessant sein und warum?"
   ]
  },
  {
   "cell_type": "markdown",
   "metadata": {},
   "source": [
    "*Antwort:* Bei der Qualitätskontrolle ist der Recall-Wert besonders interessant, denn es sollen keine mangelhaften Produkte die Produktion verlassen. D.h. die False Positive Rate soll möglichst gering ausfallen bzw. in kritischen Fällen gleich 0 sein. False Negatives sind dagegen akzeptierbar, da diese im schlimmsten Fall zu einer zusätzlichen manuellen Qualitätskontrolle führen.\n",
    "\n",
    "In diesem Beispiel: Wird ein korrekt montierter Reifen als falsch montierter Reifen erkannt, ist das tolerierbar, da eine manuelle Nachkontrolle stattfinden kann. Wird aber ein falsch montierter Reifen als korrekt erkannt, verlässt das Fährzeug mit einem Mangel die Produktion."
   ]
  },
  {
   "cell_type": "markdown",
   "metadata": {},
   "source": [
    "#### Datensätze"
   ]
  },
  {
   "cell_type": "markdown",
   "metadata": {},
   "source": [
    "Laden Sie den *iris* Datensatz mittels scikit-learn (über das `datasets` Modul).\n",
    "\n",
    "Dieser bekannte Datensatz beschreibt vier Merkmale von drei verschiedenen Schwertlilienarten. Die Aufgabe ist es, anhand der Merkmale die Art vorherzusagen."
   ]
  },
  {
   "cell_type": "code",
   "execution_count": null,
   "metadata": {},
   "outputs": [],
   "source": [
    "from sklearn.datasets import load_iris"
   ]
  },
  {
   "cell_type": "markdown",
   "metadata": {},
   "source": [
    "Machen Sie sich mit dem Datensatzobjekt vertraut. Es beinhaltet die Daten selbst, die Labels, sowie Beschreibungen der Klassen und der Merkmale."
   ]
  },
  {
   "cell_type": "code",
   "execution_count": null,
   "metadata": {},
   "outputs": [],
   "source": [
    "iris = load_iris()"
   ]
  },
  {
   "cell_type": "code",
   "execution_count": null,
   "metadata": {},
   "outputs": [],
   "source": [
    "print(iris.feature_names)\n",
    "print(iris.target_names)"
   ]
  },
  {
   "cell_type": "code",
   "execution_count": null,
   "metadata": {
    "scrolled": true
   },
   "outputs": [],
   "source": [
    "print(iris.data.ndim)\n",
    "print(iris.data.shape)"
   ]
  },
  {
   "cell_type": "markdown",
   "metadata": {},
   "source": [
    "### *matplotlib*"
   ]
  },
  {
   "cell_type": "markdown",
   "metadata": {},
   "source": [
    "Verwenden Sie `matplotlib.pyplot` um Scatter-Plots von Kombinationen von jeweils zwei Merkmalen darzustellen. Zeigen Sie die jeweilige Klasse (Label) über die Farbe der Punkte an."
   ]
  },
  {
   "cell_type": "code",
   "execution_count": null,
   "metadata": {},
   "outputs": [],
   "source": [
    "import matplotlib.pyplot as plt\n",
    "%matplotlib inline"
   ]
  },
  {
   "cell_type": "code",
   "execution_count": null,
   "metadata": {},
   "outputs": [],
   "source": [
    "plt.scatter(iris.data[:,2], iris.data[:,3], c=iris.target)\n",
    "plt.show()"
   ]
  },
  {
   "cell_type": "markdown",
   "metadata": {},
   "source": [
    "### *PyTorch*"
   ]
  },
  {
   "cell_type": "markdown",
   "metadata": {},
   "source": [
    "#### Tensoren"
   ]
  },
  {
   "cell_type": "markdown",
   "metadata": {},
   "source": [
    "Durchlaufen Sie die folgenden Tensor-Manipulationen korrekt, können Sie am Ende ein \"Lösungswort\" ablesen.\n",
    "\n",
    "Speichern Sie die Tensor-Objekte in beliebigen Variablen ab, außer Sie werden dazu angehalten die Operation *in place* durchzuführen. Geben Sie sich zur Kontrolle auch Zwischenergebnisse aus oder zeigen Sie sich sich Größe, Dimensionalität oder Form der Tensoren an."
   ]
  },
  {
   "cell_type": "code",
   "execution_count": null,
   "metadata": {},
   "outputs": [],
   "source": [
    "import torch"
   ]
  },
  {
   "cell_type": "markdown",
   "metadata": {},
   "source": [
    "Erstellen Sie einen zweidimensionalen der Form (7x7) gefüllt mit normalverteilten Zufallszahlen."
   ]
  },
  {
   "cell_type": "code",
   "execution_count": null,
   "metadata": {},
   "outputs": [],
   "source": [
    "t = torch.randn((7, 7))"
   ]
  },
  {
   "cell_type": "code",
   "execution_count": null,
   "metadata": {},
   "outputs": [],
   "source": [
    "print(t)"
   ]
  },
  {
   "cell_type": "markdown",
   "metadata": {},
   "source": [
    "Teilen sie jedes Element im Tensor durch 10 und speichern Sie das Ergebnis in einem neuen Tensor."
   ]
  },
  {
   "cell_type": "code",
   "execution_count": null,
   "metadata": {},
   "outputs": [],
   "source": [
    "u = t.div(10)"
   ]
  },
  {
   "cell_type": "markdown",
   "metadata": {},
   "source": [
    "Addieren Sie 1 zu jedem Element in jeder zweiten Spalte (beginnend bei der 2. Spalte). Beachten Sie: Die zweite Spalte ist **nicht** die Spalte mit Index 2."
   ]
  },
  {
   "cell_type": "code",
   "execution_count": null,
   "metadata": {},
   "outputs": [],
   "source": [
    "u[:,1:7:2].add_(1)"
   ]
  },
  {
   "cell_type": "markdown",
   "metadata": {},
   "source": [
    "Ersetzen Sie die erste und letzte Zeile durch einen Vektor aus normalverteilten Zufallszahlen und Teilen sie diese Zufallszahlen durch 10."
   ]
  },
  {
   "cell_type": "code",
   "execution_count": null,
   "metadata": {},
   "outputs": [],
   "source": [
    "u[0,:] = torch.rand(7)/10\n",
    "u[-1,:] = torch.rand(7)/10"
   ]
  },
  {
   "cell_type": "markdown",
   "metadata": {},
   "source": [
    "Erstellen Sie einen eindimensionalen View des Tensors."
   ]
  },
  {
   "cell_type": "code",
   "execution_count": null,
   "metadata": {},
   "outputs": [],
   "source": [
    "v = u.view(-1)"
   ]
  },
  {
   "cell_type": "code",
   "execution_count": null,
   "metadata": {},
   "outputs": [],
   "source": [
    "print(v)"
   ]
  },
  {
   "cell_type": "markdown",
   "metadata": {},
   "source": [
    "Addieren Sie folgenden \"Code\" auf den View."
   ]
  },
  {
   "cell_type": "code",
   "execution_count": null,
   "metadata": {},
   "outputs": [],
   "source": [
    "code = torch.tensor([0,0,0,0,0,0,0,0,0,1,0,0,0,0,0,0,0,0,0,0,0,0,0,0,0,0,0,0,0,0,1,0,0,0,0,0,0,0,0,0,0,0,0,0,0,0,0,0,0])"
   ]
  },
  {
   "cell_type": "code",
   "execution_count": null,
   "metadata": {},
   "outputs": [],
   "source": [
    "v.add_(code)"
   ]
  },
  {
   "cell_type": "markdown",
   "metadata": {},
   "source": [
    "Definieren Sie folgende Funktion (einfach die Zelle ausführen):"
   ]
  },
  {
   "cell_type": "code",
   "execution_count": null,
   "metadata": {},
   "outputs": [],
   "source": [
    "def view_code(x):\n",
    "    import matplotlib.pyplot as plt\n",
    "    %matplotlib inline\n",
    "\n",
    "    xx, yy = torch.meshgrid((torch.arange(7), torch.arange(7)))\n",
    "\n",
    "    plt.scatter(xx, yy, c=torch.rot90(x, 3), marker=\"s\", s=3000)"
   ]
  },
  {
   "cell_type": "markdown",
   "metadata": {},
   "source": [
    "Übergeben Sie Ihren Tensor an die Funktion:"
   ]
  },
  {
   "cell_type": "code",
   "execution_count": null,
   "metadata": {},
   "outputs": [],
   "source": [
    "view_code( u )"
   ]
  },
  {
   "cell_type": "markdown",
   "metadata": {},
   "source": [
    "Wie lautet das Lösungswort? ;)"
   ]
  },
  {
   "cell_type": "markdown",
   "metadata": {},
   "source": [
    "*Antwort:* AI"
   ]
  },
  {
   "cell_type": "code",
   "execution_count": null,
   "metadata": {},
   "outputs": [],
   "source": []
  }
 ],
 "metadata": {
  "kernelspec": {
   "display_name": "Python 3 (ipykernel)",
   "language": "python",
   "name": "python3"
  },
  "language_info": {
   "codemirror_mode": {
    "name": "ipython",
    "version": 3
   },
   "file_extension": ".py",
   "mimetype": "text/x-python",
   "name": "python",
   "nbconvert_exporter": "python",
   "pygments_lexer": "ipython3",
   "version": "3.8.12"
  }
 },
 "nbformat": 4,
 "nbformat_minor": 4
}
